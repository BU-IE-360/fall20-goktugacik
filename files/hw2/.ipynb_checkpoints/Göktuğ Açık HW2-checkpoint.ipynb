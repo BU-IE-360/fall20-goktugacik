{
 "cells": [
  {
   "cell_type": "markdown",
   "metadata": {},
   "source": [
    "## Introduction\n",
    "\n",
    "   The way how money supply, inflation, and interest rates affect each other is a frequently discussed topic in Economics. The changes in the money supply are considered determinative of macroeconomics variables the interest rate and inflation rate are and vice versa. The purpose of this data analysis is to investigate the relationship between money supply, interest rate, and inflation rate in Turkey. \n",
    "\n",
    "   After the 2008 Financial Crisis, The Central Bank is Turkey as well as many countries, has implemented a policy of increasing the money supply. Following this information, I choose **2010:1-2020:12** period money supply, interest rate, and inflation rate monthly data is selected by myself to analyze the relationship between those parameters. The data is acquired from Central Bank of the Republic of Turkey Electronic Data Delivery System: https://evds2.tcmb.gov.tr\n",
    "\n",
    "   We can sum up the question as **\"Are money supply, interest rates, and inflation rate statistics related to eachother? If yes how?\"**\n",
    "\n"
   ]
  },
  {
   "cell_type": "code",
   "execution_count": 6,
   "metadata": {},
   "outputs": [
    {
     "name": "stderr",
     "output_type": "stream",
     "text": [
      "Warning message:\n",
      "\"package 'openxlsx' is in use and will not be installed\"Warning message:\n",
      "\"package 'data.table' is in use and will not be installed\"Warning message:\n",
      "\"package 'zoo' is in use and will not be installed\"Warning message:\n",
      "\"package 'ggplot2' is in use and will not be installed\""
     ]
    },
    {
     "name": "stdout",
     "output_type": "stream",
     "text": [
      "package 'ggpubr' successfully unpacked and MD5 sums checked\n",
      "\n",
      "The downloaded binary packages are in\n",
      "\tC:\\Users\\Raven\\AppData\\Local\\Temp\\RtmpSYeiNv\\downloaded_packages\n",
      "package 'gridExtra' successfully unpacked and MD5 sums checked\n",
      "\n",
      "The downloaded binary packages are in\n",
      "\tC:\\Users\\Raven\\AppData\\Local\\Temp\\RtmpSYeiNv\\downloaded_packages\n"
     ]
    }
   ],
   "source": [
    "\n",
    "install.packages(\"openxlsx\")\n",
    "install.packages(\"data.table\")\n",
    "install.packages(\"zoo\")\n",
    "install.packages(\"ggplot2\")\n",
    "install.packages(\"ggpubr\")\n",
    "install.packages(\"gridExtra\")"
   ]
  },
  {
   "cell_type": "code",
   "execution_count": 8,
   "metadata": {},
   "outputs": [
    {
     "name": "stderr",
     "output_type": "stream",
     "text": [
      "Warning message:\n",
      "\"package 'gridExtra' was built under R version 3.6.3\"Warning message:\n",
      "\"package 'ggpubr' was built under R version 3.6.3\""
     ]
    },
    {
     "ename": "ERROR",
     "evalue": "Error: package or namespace load failed for 'ggpubr' in loadNamespace(j <- i[[1L]], c(lib.loc, .libPaths()), versionCheck = vI[[j]]):\n there is no package called 'foreign'\n",
     "output_type": "error",
     "traceback": [
      "Error: package or namespace load failed for 'ggpubr' in loadNamespace(j <- i[[1L]], c(lib.loc, .libPaths()), versionCheck = vI[[j]]):\n there is no package called 'foreign'\nTraceback:\n",
      "1. library(ggpubr)",
      "2. tryCatch({\n .     attr(package, \"LibPath\") <- which.lib.loc\n .     ns <- loadNamespace(package, lib.loc)\n .     env <- attachNamespace(ns, pos = pos, deps, exclude, include.only)\n . }, error = function(e) {\n .     P <- if (!is.null(cc <- conditionCall(e))) \n .         paste(\" in\", deparse(cc)[1L])\n .     else \"\"\n .     msg <- gettextf(\"package or namespace load failed for %s%s:\\n %s\", \n .         sQuote(package), P, conditionMessage(e))\n .     if (logical.return) \n .         message(paste(\"Error:\", msg), domain = NA)\n .     else stop(msg, call. = FALSE, domain = NA)\n . })",
      "3. tryCatchList(expr, classes, parentenv, handlers)",
      "4. tryCatchOne(expr, names, parentenv, handlers[[1L]])",
      "5. value[[3L]](cond)",
      "6. stop(msg, call. = FALSE, domain = NA)"
     ]
    }
   ],
   "source": [
    "library(openxlsx)\n",
    "library(data.table) \n",
    "library(zoo)\n",
    "library(ggplot2)\n",
    "\n",
    "library(gridExtra)\n",
    "library(ggpubr)\n"
   ]
  },
  {
   "cell_type": "markdown",
   "metadata": {},
   "source": [
    "## Data Manipulation"
   ]
  },
  {
   "cell_type": "code",
   "execution_count": 9,
   "metadata": {},
   "outputs": [
    {
     "data": {
      "text/html": [
       "<ol class=list-inline>\n",
       "\t<li>'data.table'</li>\n",
       "\t<li>'data.frame'</li>\n",
       "</ol>\n"
      ],
      "text/latex": [
       "\\begin{enumerate*}\n",
       "\\item 'data.table'\n",
       "\\item 'data.frame'\n",
       "\\end{enumerate*}\n"
      ],
      "text/markdown": [
       "1. 'data.table'\n",
       "2. 'data.frame'\n",
       "\n",
       "\n"
      ],
      "text/plain": [
       "[1] \"data.table\" \"data.frame\""
      ]
     },
     "metadata": {},
     "output_type": "display_data"
    },
    {
     "data": {
      "text/html": [
       "<table>\n",
       "<thead><tr><th scope=col>date</th><th scope=col>interest_rate</th><th scope=col>money_supply</th><th scope=col>inflation</th></tr></thead>\n",
       "<tbody>\n",
       "\t<tr><td>2020-07  </td><td>11.0060  </td><td>639193718</td><td>11.76414 </td></tr>\n",
       "\t<tr><td>2020-08  </td><td>14.3925  </td><td>625409165</td><td>11.77041 </td></tr>\n",
       "\t<tr><td>2020-09  </td><td>17.2700  </td><td>636201069</td><td>11.74831 </td></tr>\n",
       "\t<tr><td>2020-10  </td><td>18.4540  </td><td>700935578</td><td>11.88962 </td></tr>\n",
       "\t<tr><td>2020-11  </td><td>19.8650  </td><td>       NA</td><td>14.02630 </td></tr>\n",
       "\t<tr><td>2020-12  </td><td>21.4000  </td><td>       NA</td><td>      NA </td></tr>\n",
       "</tbody>\n",
       "</table>\n"
      ],
      "text/latex": [
       "\\begin{tabular}{r|llll}\n",
       " date & interest\\_rate & money\\_supply & inflation\\\\\n",
       "\\hline\n",
       "\t 2020-07   & 11.0060   & 639193718 & 11.76414 \\\\\n",
       "\t 2020-08   & 14.3925   & 625409165 & 11.77041 \\\\\n",
       "\t 2020-09   & 17.2700   & 636201069 & 11.74831 \\\\\n",
       "\t 2020-10   & 18.4540   & 700935578 & 11.88962 \\\\\n",
       "\t 2020-11   & 19.8650   &        NA & 14.02630 \\\\\n",
       "\t 2020-12   & 21.4000   &        NA &       NA \\\\\n",
       "\\end{tabular}\n"
      ],
      "text/markdown": [
       "\n",
       "| date | interest_rate | money_supply | inflation |\n",
       "|---|---|---|---|\n",
       "| 2020-07   | 11.0060   | 639193718 | 11.76414  |\n",
       "| 2020-08   | 14.3925   | 625409165 | 11.77041  |\n",
       "| 2020-09   | 17.2700   | 636201069 | 11.74831  |\n",
       "| 2020-10   | 18.4540   | 700935578 | 11.88962  |\n",
       "| 2020-11   | 19.8650   |        NA | 14.02630  |\n",
       "| 2020-12   | 21.4000   |        NA |       NA  |\n",
       "\n"
      ],
      "text/plain": [
       "  date    interest_rate money_supply inflation\n",
       "1 2020-07 11.0060       639193718    11.76414 \n",
       "2 2020-08 14.3925       625409165    11.77041 \n",
       "3 2020-09 17.2700       636201069    11.74831 \n",
       "4 2020-10 18.4540       700935578    11.88962 \n",
       "5 2020-11 19.8650              NA    14.02630 \n",
       "6 2020-12 21.4000              NA          NA "
      ]
     },
     "metadata": {},
     "output_type": "display_data"
    },
    {
     "data": {
      "text/html": [
       "<table>\n",
       "<thead><tr><th scope=col>date</th><th scope=col>interest_rate</th><th scope=col>money_supply</th><th scope=col>inflation</th></tr></thead>\n",
       "<tbody>\n",
       "\t<tr><td>2020-07  </td><td>11.0060  </td><td>639193718</td><td>11.76414 </td></tr>\n",
       "\t<tr><td>2020-08  </td><td>14.3925  </td><td>625409165</td><td>11.77041 </td></tr>\n",
       "\t<tr><td>2020-09  </td><td>17.2700  </td><td>636201069</td><td>11.74831 </td></tr>\n",
       "\t<tr><td>2020-10  </td><td>18.4540  </td><td>700935578</td><td>11.88962 </td></tr>\n",
       "\t<tr><td>2020-11  </td><td>19.8650  </td><td>700935578</td><td>14.02630 </td></tr>\n",
       "\t<tr><td>2020-12  </td><td>21.4000  </td><td>700935578</td><td>14.02630 </td></tr>\n",
       "</tbody>\n",
       "</table>\n"
      ],
      "text/latex": [
       "\\begin{tabular}{r|llll}\n",
       " date & interest\\_rate & money\\_supply & inflation\\\\\n",
       "\\hline\n",
       "\t 2020-07   & 11.0060   & 639193718 & 11.76414 \\\\\n",
       "\t 2020-08   & 14.3925   & 625409165 & 11.77041 \\\\\n",
       "\t 2020-09   & 17.2700   & 636201069 & 11.74831 \\\\\n",
       "\t 2020-10   & 18.4540   & 700935578 & 11.88962 \\\\\n",
       "\t 2020-11   & 19.8650   & 700935578 & 14.02630 \\\\\n",
       "\t 2020-12   & 21.4000   & 700935578 & 14.02630 \\\\\n",
       "\\end{tabular}\n"
      ],
      "text/markdown": [
       "\n",
       "| date | interest_rate | money_supply | inflation |\n",
       "|---|---|---|---|\n",
       "| 2020-07   | 11.0060   | 639193718 | 11.76414  |\n",
       "| 2020-08   | 14.3925   | 625409165 | 11.77041  |\n",
       "| 2020-09   | 17.2700   | 636201069 | 11.74831  |\n",
       "| 2020-10   | 18.4540   | 700935578 | 11.88962  |\n",
       "| 2020-11   | 19.8650   | 700935578 | 14.02630  |\n",
       "| 2020-12   | 21.4000   | 700935578 | 14.02630  |\n",
       "\n"
      ],
      "text/plain": [
       "  date    interest_rate money_supply inflation\n",
       "1 2020-07 11.0060       639193718    11.76414 \n",
       "2 2020-08 14.3925       625409165    11.77041 \n",
       "3 2020-09 17.2700       636201069    11.74831 \n",
       "4 2020-10 18.4540       700935578    11.88962 \n",
       "5 2020-11 19.8650       700935578    14.02630 \n",
       "6 2020-12 21.4000       700935578    14.02630 "
      ]
     },
     "metadata": {},
     "output_type": "display_data"
    },
    {
     "data": {
      "text/html": [
       "<table>\n",
       "<thead><tr><th scope=col>date</th><th scope=col>interest_rate</th><th scope=col>money_supply</th><th scope=col>inflation</th></tr></thead>\n",
       "<tbody>\n",
       "\t<tr><td>2020-07-01</td><td>11.0060   </td><td>639193718 </td><td>11.76414  </td></tr>\n",
       "\t<tr><td>2020-08-01</td><td>14.3925   </td><td>625409165 </td><td>11.77041  </td></tr>\n",
       "\t<tr><td>2020-09-01</td><td>17.2700   </td><td>636201069 </td><td>11.74831  </td></tr>\n",
       "\t<tr><td>2020-10-01</td><td>18.4540   </td><td>700935578 </td><td>11.88962  </td></tr>\n",
       "\t<tr><td>2020-11-01</td><td>19.8650   </td><td>700935578 </td><td>14.02630  </td></tr>\n",
       "\t<tr><td>2020-12-01</td><td>21.4000   </td><td>700935578 </td><td>14.02630  </td></tr>\n",
       "</tbody>\n",
       "</table>\n"
      ],
      "text/latex": [
       "\\begin{tabular}{r|llll}\n",
       " date & interest\\_rate & money\\_supply & inflation\\\\\n",
       "\\hline\n",
       "\t 2020-07-01 & 11.0060    & 639193718  & 11.76414  \\\\\n",
       "\t 2020-08-01 & 14.3925    & 625409165  & 11.77041  \\\\\n",
       "\t 2020-09-01 & 17.2700    & 636201069  & 11.74831  \\\\\n",
       "\t 2020-10-01 & 18.4540    & 700935578  & 11.88962  \\\\\n",
       "\t 2020-11-01 & 19.8650    & 700935578  & 14.02630  \\\\\n",
       "\t 2020-12-01 & 21.4000    & 700935578  & 14.02630  \\\\\n",
       "\\end{tabular}\n"
      ],
      "text/markdown": [
       "\n",
       "| date | interest_rate | money_supply | inflation |\n",
       "|---|---|---|---|\n",
       "| 2020-07-01 | 11.0060    | 639193718  | 11.76414   |\n",
       "| 2020-08-01 | 14.3925    | 625409165  | 11.77041   |\n",
       "| 2020-09-01 | 17.2700    | 636201069  | 11.74831   |\n",
       "| 2020-10-01 | 18.4540    | 700935578  | 11.88962   |\n",
       "| 2020-11-01 | 19.8650    | 700935578  | 14.02630   |\n",
       "| 2020-12-01 | 21.4000    | 700935578  | 14.02630   |\n",
       "\n"
      ],
      "text/plain": [
       "  date       interest_rate money_supply inflation\n",
       "1 2020-07-01 11.0060       639193718    11.76414 \n",
       "2 2020-08-01 14.3925       625409165    11.77041 \n",
       "3 2020-09-01 17.2700       636201069    11.74831 \n",
       "4 2020-10-01 18.4540       700935578    11.88962 \n",
       "5 2020-11-01 19.8650       700935578    14.02630 \n",
       "6 2020-12-01 21.4000       700935578    14.02630 "
      ]
     },
     "metadata": {},
     "output_type": "display_data"
    },
    {
     "data": {
      "text/html": [
       "'numeric'"
      ],
      "text/latex": [
       "'numeric'"
      ],
      "text/markdown": [
       "'numeric'"
      ],
      "text/plain": [
       "[1] \"numeric\""
      ]
     },
     "metadata": {},
     "output_type": "display_data"
    }
   ],
   "source": [
    "#Read data. Read first 133 rows since rest is appendix and explanation section\n",
    "df <- read.xlsx(\"data.xlsx\", sheet = 1,\n",
    "  startRow = 1,\n",
    "  colNames = TRUE,\n",
    "  rowNames = FALSE,\n",
    "  detectDates = TRUE,\n",
    "  skipEmptyRows = TRUE,\n",
    "  skipEmptyCols = TRUE,\n",
    "  rows = c(1:133),\n",
    "  cols = NULL,\n",
    "  check.names = FALSE,\n",
    "  sep.names = \".\",\n",
    ")\n",
    "\n",
    "#Add data.table class to data frame and check\n",
    "DT <- data.table(df)\n",
    "class(DT)\n",
    "\n",
    "#Set column names \n",
    "setnames(DT, c(\"date\",\"interest_rate\",\"money_supply\", \"inflation\") )\n",
    "\n",
    "tail(DT)\n",
    "\n",
    "#There are some NA values in the table. I will fill NA values with previous data\n",
    "DT[, inflation := inflation[1], .(cumsum(!is.na(inflation)))]\n",
    "DT[, money_supply := money_supply[1], .(cumsum(!is.na(money_supply)))]\n",
    "\n",
    "tail(DT)\n",
    "\n",
    "#Format date as date format. Day is needed in order to convert so I added 01 to every month as day.\n",
    "DT[, date := as.Date(paste(date, \"01\", sep = \"-\")), ]\n",
    "tail(DT)\n",
    "\n",
    "class(DT$money_supply)"
   ]
  },
  {
   "cell_type": "code",
   "execution_count": null,
   "metadata": {},
   "outputs": [],
   "source": []
  },
  {
   "cell_type": "code",
   "execution_count": 65,
   "metadata": {},
   "outputs": [
    {
     "data": {
      "image/png": "[encoded data removed]",
      "text/plain": [
       "plot without title"
      ]
     },
     "metadata": {},
     "output_type": "display_data"
    }
   ],
   "source": [
    "\n",
    "#Visual representation of the data as line plots\n",
    "\n",
    "p1 <- ggplot(DT, aes(x=date, y=interest_rate, group = 1)) +\n",
    "  geom_line(size = 1, colour = \"navyblue\") +\n",
    "  labs(title = \"Interest Rate in Turkey 2010-2020\", \n",
    "       x = \"Date\",\n",
    "       y = \"Interest Rate\") +\n",
    "  theme_minimal() +\n",
    "  theme(plot.title = element_text(size=8))\n",
    "\n",
    "p2 <- ggplot(DT, aes(x=date, y=inflation)) +\n",
    "  geom_line(size = 1, colour = \"navyblue\") +\n",
    "  labs(title = \"Inflation in Turkey 2010-2020\", \n",
    "       x = \"Date\",\n",
    "       y = \"Inflation Rate\") +\n",
    "  theme_minimal() +\n",
    "  theme(plot.title = element_text(size=8))\n",
    "\n",
    "\n",
    "p3 <- ggplot(DT, aes(x=date, y=money_supply, group = 1)) +\n",
    "  geom_line(size = 1, colour = \"navyblue\") +\n",
    "  labs(title = \"Money Supply in Turkey 2010-2020\", \n",
    "       x = \"Date\",\n",
    "       y = \"Money Supply\") +\n",
    "  theme_minimal() +\n",
    "  theme(plot.title = element_text(size=8))\n",
    "\n",
    "\n",
    "grid.arrange(p1,p2,p3, ncol=3, nrow=2)"
   ]
  },
  {
   "cell_type": "code",
   "execution_count": 69,
   "metadata": {},
   "outputs": [
    {
     "data": {
      "image/png": "[encoded data removed]",
      "text/plain": [
       "plot without title"
      ]
     },
     "metadata": {},
     "output_type": "display_data"
    }
   ],
   "source": [
    "for(i in 2010:2020){\n",
    "    start <- paste(i, \"01-01\", sep = \"-\"))\n",
    "    end <- paste(i, \"01-01\", sep = \"-\"))\n",
    "x <- DT[date>=\"i-01-01\" & date<=end]\n",
    "p <- ggplot(x, aes(x= interest_rate)) +\n",
    "  geom_histogram( aes(y=..density..),colour = \"slateblue4\", alpha=0.6, fill = \"royalblue1\", bins= 10) +\n",
    "  geom_density(alpha=.3, colour = \"navy\", fill = \"navyblue\") +\n",
    "  labs(x= \"Weighted Interest Rate\",\n",
    "       y=\"Density\") +\n",
    "  theme_minimal() +\n",
    "  theme(axis.text=element_text(size=8), axis.title=element_text(size=9,face=\"italic\"))\n",
    "p\n",
    " \n",
    "     assign(paste(\"a\", i, sep = \"\"), i)    \n",
    "}\n",
    "grid.arrange(p1,p2,p3, ncol=3, nrow=2)"
   ]
  },
  {
   "cell_type": "code",
   "execution_count": null,
   "metadata": {},
   "outputs": [],
   "source": []
  }
 ],
 "metadata": {
  "kernelspec": {
   "display_name": "R",
   "language": "R",
   "name": "ir"
  },
  "language_info": {
   "codemirror_mode": "r",
   "file_extension": ".r",
   "mimetype": "text/x-r-source",
   "name": "R",
   "pygments_lexer": "r",
   "version": "3.6.1"
  }
 },
 "nbformat": 4,
 "nbformat_minor": 4
}

{
 "cells": [
  {
   "cell_type": "code",
   "execution_count": 1,
   "metadata": {},
   "outputs": [
    {
     "name": "stdout",
     "output_type": "stream",
     "text": [
      "package 'openxlsx' successfully unpacked and MD5 sums checked\n",
      "\n",
      "The downloaded binary packages are in\n",
      "\tC:\\Users\\Raven\\AppData\\Local\\Temp\\RtmpGqkchi\\downloaded_packages\n",
      "package 'openxlsx' successfully unpacked and MD5 sums checked\n",
      "\n",
      "The downloaded binary packages are in\n",
      "\tC:\\Users\\Raven\\AppData\\Local\\Temp\\RtmpGqkchi\\downloaded_packages\n",
      "package 'data.table' successfully unpacked and MD5 sums checked\n",
      "\n",
      "The downloaded binary packages are in\n",
      "\tC:\\Users\\Raven\\AppData\\Local\\Temp\\RtmpGqkchi\\downloaded_packages\n",
      "package 'zoo' successfully unpacked and MD5 sums checked\n",
      "\n",
      "The downloaded binary packages are in\n",
      "\tC:\\Users\\Raven\\AppData\\Local\\Temp\\RtmpGqkchi\\downloaded_packages\n",
      "package 'dplyr' successfully unpacked and MD5 sums checked\n",
      "\n",
      "The downloaded binary packages are in\n",
      "\tC:\\Users\\Raven\\AppData\\Local\\Temp\\RtmpGqkchi\\downloaded_packages\n",
      "package 'lubridate' successfully unpacked and MD5 sums checked\n",
      "\n",
      "The downloaded binary packages are in\n",
      "\tC:\\Users\\Raven\\AppData\\Local\\Temp\\RtmpGqkchi\\downloaded_packages\n",
      "package 'forecast' successfully unpacked and MD5 sums checked\n",
      "\n",
      "The downloaded binary packages are in\n",
      "\tC:\\Users\\Raven\\AppData\\Local\\Temp\\RtmpGqkchi\\downloaded_packages\n",
      "package 'ggplot2' successfully unpacked and MD5 sums checked\n",
      "\n",
      "The downloaded binary packages are in\n",
      "\tC:\\Users\\Raven\\AppData\\Local\\Temp\\RtmpGqkchi\\downloaded_packages\n",
      "package 'ggcorrplot' successfully unpacked and MD5 sums checked\n",
      "\n",
      "The downloaded binary packages are in\n",
      "\tC:\\Users\\Raven\\AppData\\Local\\Temp\\RtmpGqkchi\\downloaded_packages\n",
      "package 'corrplot' successfully unpacked and MD5 sums checked\n",
      "\n",
      "The downloaded binary packages are in\n",
      "\tC:\\Users\\Raven\\AppData\\Local\\Temp\\RtmpGqkchi\\downloaded_packages\n",
      "package 'GGally' successfully unpacked and MD5 sums checked\n",
      "\n",
      "The downloaded binary packages are in\n",
      "\tC:\\Users\\Raven\\AppData\\Local\\Temp\\RtmpGqkchi\\downloaded_packages\n",
      "package 'gridExtra' successfully unpacked and MD5 sums checked\n",
      "\n",
      "The downloaded binary packages are in\n",
      "\tC:\\Users\\Raven\\AppData\\Local\\Temp\\RtmpGqkchi\\downloaded_packages\n",
      "package 'ggfortify' successfully unpacked and MD5 sums checked\n",
      "\n",
      "The downloaded binary packages are in\n",
      "\tC:\\Users\\Raven\\AppData\\Local\\Temp\\RtmpGqkchi\\downloaded_packages\n",
      "package 'urca' successfully unpacked and MD5 sums checked\n",
      "\n",
      "The downloaded binary packages are in\n",
      "\tC:\\Users\\Raven\\AppData\\Local\\Temp\\RtmpGqkchi\\downloaded_packages\n"
     ]
    }
   ],
   "source": [
    "i_pack <- function(pack) {\n",
    "   suppressWarnings(suppressMessages( install.packages(pack) )) \n",
    "}\n",
    "i_pack(\"openxlsx\")  \n",
    "i_pack(\"openxlsx\")  \n",
    "i_pack(\"data.table\")\n",
    "i_pack(\"zoo\")\n",
    "i_pack(\"dplyr\")\n",
    "i_pack(\"lubridate\")\n",
    "i_pack(\"forecast\")\n",
    "i_pack(\"ggplot2\")\n",
    "i_pack(\"ggcorrplot\")\n",
    "i_pack(\"corrplot\")\n",
    "i_pack(\"GGally\")\n",
    "i_pack(\"gridExtra\")\n",
    "i_pack(\"ggfortify\")\n",
    "i_pack(\"urca\")\n",
    "\n",
    "\n"
   ]
  },
  {
   "cell_type": "code",
   "execution_count": 2,
   "metadata": {},
   "outputs": [
    {
     "name": "stderr",
     "output_type": "stream",
     "text": [
      "Warning message:\n",
      "\"package 'openxlsx' was built under R version 3.6.3\"Warning message:\n",
      "\"package 'data.table' was built under R version 3.6.3\"Warning message:\n",
      "\"package 'zoo' was built under R version 3.6.3\"\n",
      "Attaching package: 'zoo'\n",
      "\n",
      "The following objects are masked from 'package:base':\n",
      "\n",
      "    as.Date, as.Date.numeric\n",
      "\n",
      "Warning message:\n",
      "\"package 'dplyr' was built under R version 3.6.3\"\n",
      "Attaching package: 'dplyr'\n",
      "\n",
      "The following objects are masked from 'package:data.table':\n",
      "\n",
      "    between, first, last\n",
      "\n",
      "The following objects are masked from 'package:stats':\n",
      "\n",
      "    filter, lag\n",
      "\n",
      "The following objects are masked from 'package:base':\n",
      "\n",
      "    intersect, setdiff, setequal, union\n",
      "\n",
      "Warning message:\n",
      "\"package 'lubridate' was built under R version 3.6.3\"\n",
      "Attaching package: 'lubridate'\n",
      "\n",
      "The following objects are masked from 'package:data.table':\n",
      "\n",
      "    hour, isoweek, mday, minute, month, quarter, second, wday, week,\n",
      "    yday, year\n",
      "\n",
      "The following objects are masked from 'package:base':\n",
      "\n",
      "    date, intersect, setdiff, union\n",
      "\n",
      "Warning message:\n",
      "\"package 'forecast' was built under R version 3.6.3\"Registered S3 method overwritten by 'quantmod':\n",
      "  method            from\n",
      "  as.zoo.data.frame zoo \n",
      "Warning message:\n",
      "\"package 'ggplot2' was built under R version 3.6.3\"Warning message:\n",
      "\"package 'ggcorrplot' was built under R version 3.6.3\"Warning message:\n",
      "\"package 'corrplot' was built under R version 3.6.3\"corrplot 0.84 loaded\n",
      "Warning message:\n",
      "\"package 'GGally' was built under R version 3.6.3\"Registered S3 method overwritten by 'GGally':\n",
      "  method from   \n",
      "  +.gg   ggplot2\n",
      "Warning message:\n",
      "\"package 'gridExtra' was built under R version 3.6.3\"\n",
      "Attaching package: 'gridExtra'\n",
      "\n",
      "The following object is masked from 'package:dplyr':\n",
      "\n",
      "    combine\n",
      "\n",
      "Warning message:\n",
      "\"package 'ggfortify' was built under R version 3.6.3\"Registered S3 methods overwritten by 'ggfortify':\n",
      "  method                 from    \n",
      "  autoplot.Arima         forecast\n",
      "  autoplot.acf           forecast\n",
      "  autoplot.ar            forecast\n",
      "  autoplot.bats          forecast\n",
      "  autoplot.decomposed.ts forecast\n",
      "  autoplot.ets           forecast\n",
      "  autoplot.forecast      forecast\n",
      "  autoplot.stl           forecast\n",
      "  autoplot.ts            forecast\n",
      "  fitted.ar              forecast\n",
      "  fortify.ts             forecast\n",
      "  residuals.ar           forecast\n",
      "Warning message:\n",
      "\"package 'urca' was built under R version 3.6.3\""
     ]
    }
   ],
   "source": [
    "\n",
    "library(openxlsx,quietly = TRUE)\n",
    "library(data.table,quietly = TRUE)\n",
    "library(zoo,quietly = TRUE)\n",
    "library(dplyr,quietly = TRUE)\n",
    "library(lubridate,quietly = TRUE)\n",
    "library(forecast,quietly = TRUE)\n",
    "library(ggplot2,quietly = TRUE)\n",
    "library(ggcorrplot,quietly = TRUE)\n",
    "library(corrplot,quietly = TRUE)\n",
    "library(GGally,quietly = TRUE)\n",
    "library(gridExtra,quietly = TRUE)\n",
    "library(ggfortify,quietly = TRUE)\n",
    "library(urca)\n"
   ]
  },
  {
   "cell_type": "code",
   "execution_count": 3,
   "metadata": {},
   "outputs": [
    {
     "name": "stdout",
     "output_type": "stream",
     "text": [
      "Classes 'data.table' and 'data.frame':\t35725 obs. of  3 variables:\n",
      " $ Date       : chr  \"01.01.2017\" \"01.01.2017\" \"01.01.2017\" \"01.01.2017\" ...\n",
      " $ Hour       : chr  \"00:00\" \"01:00\" \"02:00\" \"03:00\" ...\n",
      " $ Consumption: chr  \"27.223,06\" \"25.825,90\" \"24.252,68\" \"22.915,47\" ...\n",
      " - attr(*, \".internal.selfref\")=<externalptr> \n"
     ]
    },
    {
     "data": {
      "text/html": [
       "<table>\n",
       "<thead><tr><th scope=col>Date</th><th scope=col>Hour</th><th scope=col>Consumption</th></tr></thead>\n",
       "<tbody>\n",
       "\t<tr><td>01.01.2017</td><td>00:00     </td><td>27.223,06 </td></tr>\n",
       "\t<tr><td>01.01.2017</td><td>01:00     </td><td>25.825,90 </td></tr>\n",
       "\t<tr><td>01.01.2017</td><td>02:00     </td><td>24.252,68 </td></tr>\n",
       "\t<tr><td>01.01.2017</td><td>03:00     </td><td>22.915,47 </td></tr>\n",
       "\t<tr><td>01.01.2017</td><td>04:00     </td><td>22.356,99 </td></tr>\n",
       "\t<tr><td>01.01.2017</td><td>05:00     </td><td>22.274,49 </td></tr>\n",
       "</tbody>\n",
       "</table>\n"
      ],
      "text/latex": [
       "\\begin{tabular}{r|lll}\n",
       " Date & Hour & Consumption\\\\\n",
       "\\hline\n",
       "\t 01.01.2017 & 00:00      & 27.223,06 \\\\\n",
       "\t 01.01.2017 & 01:00      & 25.825,90 \\\\\n",
       "\t 01.01.2017 & 02:00      & 24.252,68 \\\\\n",
       "\t 01.01.2017 & 03:00      & 22.915,47 \\\\\n",
       "\t 01.01.2017 & 04:00      & 22.356,99 \\\\\n",
       "\t 01.01.2017 & 05:00      & 22.274,49 \\\\\n",
       "\\end{tabular}\n"
      ],
      "text/markdown": [
       "\n",
       "| Date | Hour | Consumption |\n",
       "|---|---|---|\n",
       "| 01.01.2017 | 00:00      | 27.223,06  |\n",
       "| 01.01.2017 | 01:00      | 25.825,90  |\n",
       "| 01.01.2017 | 02:00      | 24.252,68  |\n",
       "| 01.01.2017 | 03:00      | 22.915,47  |\n",
       "| 01.01.2017 | 04:00      | 22.356,99  |\n",
       "| 01.01.2017 | 05:00      | 22.274,49  |\n",
       "\n"
      ],
      "text/plain": [
       "  Date       Hour  Consumption\n",
       "1 01.01.2017 00:00 27.223,06  \n",
       "2 01.01.2017 01:00 25.825,90  \n",
       "3 01.01.2017 02:00 24.252,68  \n",
       "4 01.01.2017 03:00 22.915,47  \n",
       "5 01.01.2017 04:00 22.356,99  \n",
       "6 01.01.2017 05:00 22.274,49  "
      ]
     },
     "metadata": {},
     "output_type": "display_data"
    },
    {
     "name": "stdout",
     "output_type": "stream",
     "text": [
      "Classes 'data.table' and 'data.frame':\t35725 obs. of  3 variables:\n",
      " $ Date       : Date, format: \"2017-01-01\" \"2017-01-01\" ...\n",
      " $ Hour       : chr  \"00:00\" \"01:00\" \"02:00\" \"03:00\" ...\n",
      " $ Consumption: num  27223 25826 24253 22915 22357 ...\n",
      " - attr(*, \".internal.selfref\")=<externalptr> \n"
     ]
    },
    {
     "data": {
      "text/html": [
       "<table>\n",
       "<thead><tr><th scope=col>Date</th><th scope=col>Hour</th><th scope=col>Consumption</th></tr></thead>\n",
       "<tbody>\n",
       "\t<tr><td>2017-01-01</td><td>00:00     </td><td>27223.06  </td></tr>\n",
       "\t<tr><td>2017-01-01</td><td>01:00     </td><td>25825.90  </td></tr>\n",
       "\t<tr><td>2017-01-01</td><td>02:00     </td><td>24252.68  </td></tr>\n",
       "\t<tr><td>2017-01-01</td><td>03:00     </td><td>22915.47  </td></tr>\n",
       "\t<tr><td>2017-01-01</td><td>04:00     </td><td>22356.99  </td></tr>\n",
       "\t<tr><td>2017-01-01</td><td>05:00     </td><td>22274.49  </td></tr>\n",
       "</tbody>\n",
       "</table>\n"
      ],
      "text/latex": [
       "\\begin{tabular}{r|lll}\n",
       " Date & Hour & Consumption\\\\\n",
       "\\hline\n",
       "\t 2017-01-01 & 00:00      & 27223.06  \\\\\n",
       "\t 2017-01-01 & 01:00      & 25825.90  \\\\\n",
       "\t 2017-01-01 & 02:00      & 24252.68  \\\\\n",
       "\t 2017-01-01 & 03:00      & 22915.47  \\\\\n",
       "\t 2017-01-01 & 04:00      & 22356.99  \\\\\n",
       "\t 2017-01-01 & 05:00      & 22274.49  \\\\\n",
       "\\end{tabular}\n"
      ],
      "text/markdown": [
       "\n",
       "| Date | Hour | Consumption |\n",
       "|---|---|---|\n",
       "| 2017-01-01 | 00:00      | 27223.06   |\n",
       "| 2017-01-01 | 01:00      | 25825.90   |\n",
       "| 2017-01-01 | 02:00      | 24252.68   |\n",
       "| 2017-01-01 | 03:00      | 22915.47   |\n",
       "| 2017-01-01 | 04:00      | 22356.99   |\n",
       "| 2017-01-01 | 05:00      | 22274.49   |\n",
       "\n"
      ],
      "text/plain": [
       "  Date       Hour  Consumption\n",
       "1 2017-01-01 00:00 27223.06   \n",
       "2 2017-01-01 01:00 25825.90   \n",
       "3 2017-01-01 02:00 24252.68   \n",
       "4 2017-01-01 03:00 22915.47   \n",
       "5 2017-01-01 04:00 22356.99   \n",
       "6 2017-01-01 05:00 22274.49   "
      ]
     },
     "metadata": {},
     "output_type": "display_data"
    }
   ],
   "source": [
    "#Reads data. Read first 35726 rows\n",
    "df <- read.xlsx(\"data_hw4.xlsx\", sheet = 1,\n",
    "  startRow = 1,\n",
    "  colNames = TRUE,\n",
    "  rowNames = FALSE,\n",
    "  detectDates = TRUE,\n",
    "  skipEmptyRows = TRUE,\n",
    "  skipEmptyCols = TRUE,\n",
    "  rows = c(1:35726),\n",
    "  cols = NULL,\n",
    "  check.names = FALSE,\n",
    "  sep.names = \".\",\n",
    ")\n",
    "\n",
    "#Adds data.table class to data frame and checks\n",
    "DT <- data.table(df)\n",
    "\n",
    "#Sets column names \n",
    "setnames(DT, c(\"Date\",\"Hour\",\"Consumption\" ) )\n",
    "\n",
    "str(DT)\n",
    "head(DT)\n",
    "\n",
    "#Formats date as date format. \n",
    "DT[, Date := as.Date(Date,format = \"%d.%m.%Y\"), ]\n",
    "# This versions returns NA for some reason DT <- DT[, Consumption := as.numeric(Consumption),]\n",
    "\n",
    "#https://stackoverflow.com/questions/21027806/replacing-commas-and-dots-in-r\n",
    "DT <- DT[, Consumption := as.numeric((gsub(\",\", \".\", gsub(\"\\\\.\", \"\", Consumption)))),]\n",
    "\n",
    "\n",
    "str(DT)\n",
    "head(DT)\n"
   ]
  },
  {
   "cell_type": "code",
   "execution_count": 4,
   "metadata": {},
   "outputs": [
    {
     "data": {
      "text/html": [
       "<table>\n",
       "<thead><tr><th scope=col>Date</th><th scope=col>Consumption</th></tr></thead>\n",
       "<tbody>\n",
       "\t<tr><td>2021-01-03</td><td>30023.36  </td></tr>\n",
       "\t<tr><td>2021-01-04</td><td>35548.28  </td></tr>\n",
       "\t<tr><td>2021-01-05</td><td>36723.26  </td></tr>\n",
       "\t<tr><td>2021-01-06</td><td>37182.32  </td></tr>\n",
       "\t<tr><td>2021-01-07</td><td>37299.57  </td></tr>\n",
       "\t<tr><td>2021-01-08</td><td>36873.90  </td></tr>\n",
       "</tbody>\n",
       "</table>\n"
      ],
      "text/latex": [
       "\\begin{tabular}{r|ll}\n",
       " Date & Consumption\\\\\n",
       "\\hline\n",
       "\t 2021-01-03 & 30023.36  \\\\\n",
       "\t 2021-01-04 & 35548.28  \\\\\n",
       "\t 2021-01-05 & 36723.26  \\\\\n",
       "\t 2021-01-06 & 37182.32  \\\\\n",
       "\t 2021-01-07 & 37299.57  \\\\\n",
       "\t 2021-01-08 & 36873.90  \\\\\n",
       "\\end{tabular}\n"
      ],
      "text/markdown": [
       "\n",
       "| Date | Consumption |\n",
       "|---|---|\n",
       "| 2021-01-03 | 30023.36   |\n",
       "| 2021-01-04 | 35548.28   |\n",
       "| 2021-01-05 | 36723.26   |\n",
       "| 2021-01-06 | 37182.32   |\n",
       "| 2021-01-07 | 37299.57   |\n",
       "| 2021-01-08 | 36873.90   |\n",
       "\n"
      ],
      "text/plain": [
       "  Date       Consumption\n",
       "1 2021-01-03 30023.36   \n",
       "2 2021-01-04 35548.28   \n",
       "3 2021-01-05 36723.26   \n",
       "4 2021-01-06 37182.32   \n",
       "5 2021-01-07 37299.57   \n",
       "6 2021-01-08 36873.90   "
      ]
     },
     "metadata": {},
     "output_type": "display_data"
    },
    {
     "data": {
      "text/html": [
       "<table>\n",
       "<thead><tr><th scope=col>Date</th><th scope=col>Consumption</th></tr></thead>\n",
       "<tbody>\n",
       "\t<tr><td>2021-01-09</td><td>34781.56  </td></tr>\n",
       "\t<tr><td>2021-01-10</td><td>31841.90  </td></tr>\n",
       "\t<tr><td>2021-01-11</td><td>36431.46  </td></tr>\n",
       "\t<tr><td>2021-01-12</td><td>36897.99  </td></tr>\n",
       "\t<tr><td>2021-01-13</td><td>37409.87  </td></tr>\n",
       "\t<tr><td>2021-01-14</td><td>38056.05  </td></tr>\n",
       "\t<tr><td>2021-01-15</td><td>38170.38  </td></tr>\n",
       "\t<tr><td>2021-01-16</td><td>35667.35  </td></tr>\n",
       "\t<tr><td>2021-01-17</td><td>32557.96  </td></tr>\n",
       "\t<tr><td>2021-01-18</td><td>38447.89  </td></tr>\n",
       "\t<tr><td>2021-01-19</td><td>39723.73  </td></tr>\n",
       "\t<tr><td>2021-01-20</td><td>39960.92  </td></tr>\n",
       "\t<tr><td>2021-01-21</td><td>39791.07  </td></tr>\n",
       "\t<tr><td>2021-01-22</td><td>38902.97  </td></tr>\n",
       "\t<tr><td>2021-01-23</td><td>35635.70  </td></tr>\n",
       "</tbody>\n",
       "</table>\n"
      ],
      "text/latex": [
       "\\begin{tabular}{r|ll}\n",
       " Date & Consumption\\\\\n",
       "\\hline\n",
       "\t 2021-01-09 & 34781.56  \\\\\n",
       "\t 2021-01-10 & 31841.90  \\\\\n",
       "\t 2021-01-11 & 36431.46  \\\\\n",
       "\t 2021-01-12 & 36897.99  \\\\\n",
       "\t 2021-01-13 & 37409.87  \\\\\n",
       "\t 2021-01-14 & 38056.05  \\\\\n",
       "\t 2021-01-15 & 38170.38  \\\\\n",
       "\t 2021-01-16 & 35667.35  \\\\\n",
       "\t 2021-01-17 & 32557.96  \\\\\n",
       "\t 2021-01-18 & 38447.89  \\\\\n",
       "\t 2021-01-19 & 39723.73  \\\\\n",
       "\t 2021-01-20 & 39960.92  \\\\\n",
       "\t 2021-01-21 & 39791.07  \\\\\n",
       "\t 2021-01-22 & 38902.97  \\\\\n",
       "\t 2021-01-23 & 35635.70  \\\\\n",
       "\\end{tabular}\n"
      ],
      "text/markdown": [
       "\n",
       "| Date | Consumption |\n",
       "|---|---|\n",
       "| 2021-01-09 | 34781.56   |\n",
       "| 2021-01-10 | 31841.90   |\n",
       "| 2021-01-11 | 36431.46   |\n",
       "| 2021-01-12 | 36897.99   |\n",
       "| 2021-01-13 | 37409.87   |\n",
       "| 2021-01-14 | 38056.05   |\n",
       "| 2021-01-15 | 38170.38   |\n",
       "| 2021-01-16 | 35667.35   |\n",
       "| 2021-01-17 | 32557.96   |\n",
       "| 2021-01-18 | 38447.89   |\n",
       "| 2021-01-19 | 39723.73   |\n",
       "| 2021-01-20 | 39960.92   |\n",
       "| 2021-01-21 | 39791.07   |\n",
       "| 2021-01-22 | 38902.97   |\n",
       "| 2021-01-23 | 35635.70   |\n",
       "\n"
      ],
      "text/plain": [
       "   Date       Consumption\n",
       "1  2021-01-09 34781.56   \n",
       "2  2021-01-10 31841.90   \n",
       "3  2021-01-11 36431.46   \n",
       "4  2021-01-12 36897.99   \n",
       "5  2021-01-13 37409.87   \n",
       "6  2021-01-14 38056.05   \n",
       "7  2021-01-15 38170.38   \n",
       "8  2021-01-16 35667.35   \n",
       "9  2021-01-17 32557.96   \n",
       "10 2021-01-18 38447.89   \n",
       "11 2021-01-19 39723.73   \n",
       "12 2021-01-20 39960.92   \n",
       "13 2021-01-21 39791.07   \n",
       "14 2021-01-22 38902.97   \n",
       "15 2021-01-23 35635.70   "
      ]
     },
     "metadata": {},
     "output_type": "display_data"
    }
   ],
   "source": [
    "#Daily Mean DT\n",
    "DDT <- DT[,.(Consumption = mean(Consumption)),by=.(Date)] \n",
    "\n",
    "DailyM_DT <-copy(DDT)\n",
    "DailyM_DT <- DailyM_DT[Date <= as.Date('2021-01-08')]\n",
    "\n",
    "Forecast_DT <-copy(DDT)\n",
    "Forecast_DT <- Forecast_DT[Date >= as.Date('2021-01-09')]\n",
    "Forecast_DT <- Forecast_DT[Date <= as.Date('2021-01-23')]\n",
    "\n",
    "tail(DailyM_DT)\n",
    "head(Forecast_DT,20)\n",
    "\n"
   ]
  },
  {
   "cell_type": "code",
   "execution_count": 5,
   "metadata": {},
   "outputs": [
    {
     "data": {
      "image/png": "[encoded data removed]",
      "text/plain": [
       "plot without title"
      ]
     },
     "metadata": {},
     "output_type": "display_data"
    }
   ],
   "source": [
    " p1 <- ggplot( data= DailyM_DT, aes(x=Date, y=Consumption) ) +\n",
    "  theme_classic()+\n",
    "  theme(plot.title = element_text(size = 12, face = \"bold\",hjust = 0.5))+\n",
    "  labs( x=\"Date\",y=\"Consumption (MWh)\",title=(\"Mean Daily Consumption\"))+\n",
    "  geom_line(color=\"#2f4b7c\")\n",
    "\n",
    "p1"
   ]
  },
  {
   "cell_type": "markdown",
   "metadata": {},
   "source": [
    "In this study autoregressive (AR) and moving average (MA) models will be used. In order to use those models the data should be stationary as possible. Stationary series are flat looking series, without trend, constant variance over time, a constant autocorrelation structure over time and no periodic fluctuations called seasonality. According to my visual analysis there is a obivious seasonality correlated with actual season (e.g consumpuion increases in summer), thre are many outliers, data does not have a signifiant linear trend although mean is changing. Also Spring 2020 quarter is not follow the pattern due to COVID-19 restrictions, consumption is much lower since industrial production halted with lockdowns. The variance does not change over time so Time series decomposition can be made as additive. To understand and achieve the stationary better autocorrelation analysis, KPSS Unit Root Test, decomposition analysis can be conducted.\n",
    "## Stationary."
   ]
  },
  {
   "cell_type": "code",
   "execution_count": 6,
   "metadata": {},
   "outputs": [
    {
     "data": {
      "image/png": "[encoded data removed]",
      "text/plain": [
       "Plot with title \"Autocorrelation of Mean Daily Consumption\""
      ]
     },
     "metadata": {},
     "output_type": "display_data"
    }
   ],
   "source": [
    "acf(DailyM_DT$Consumption, main= \"Autocorrelation of Mean Daily Consumption\")"
   ]
  },
  {
   "cell_type": "markdown",
   "metadata": {},
   "source": [
    "The noticable positive autocorrelation among lag 1 probably resulted by trend and lag 7 probably resulted by weekly seasonality is spotted on ACF results. Some autocorrelation may be result of the propagation of the previous autocorrelations. PAFC may give a clearer perspective."
   ]
  },
  {
   "cell_type": "code",
   "execution_count": 7,
   "metadata": {},
   "outputs": [
    {
     "data": {
      "image/png": "[encoded data removed]",
      "text/plain": [
       "Plot with title \" Partial Autocorrelation of Mean Daily Consumption\""
      ]
     },
     "metadata": {},
     "output_type": "display_data"
    }
   ],
   "source": [
    "pacf(DailyM_DT$Consumption,main= \" Partial Autocorrelation of Mean Daily Consumption\")\n"
   ]
  },
  {
   "cell_type": "markdown",
   "metadata": {},
   "source": [
    "PACF supports the previous claims, every 7 days follows a similar pattern, there is a weekly seasonality. "
   ]
  },
  {
   "cell_type": "code",
   "execution_count": 8,
   "metadata": {},
   "outputs": [
    {
     "data": {
      "text/plain": [
       "\n",
       "####################### \n",
       "# KPSS Unit Root Test # \n",
       "####################### \n",
       "\n",
       "Test is of type: mu with 7 lags. \n",
       "\n",
       "Value of test-statistic is: 0.1457 \n",
       "\n",
       "Critical value for a significance level of: \n",
       "                10pct  5pct 2.5pct  1pct\n",
       "critical values 0.347 0.463  0.574 0.739\n"
      ]
     },
     "metadata": {},
     "output_type": "display_data"
    }
   ],
   "source": [
    "summary(ur.kpss(DailyM_DT$Consumption))"
   ]
  },
  {
   "cell_type": "markdown",
   "metadata": {},
   "source": [
    " Kwiatkowski–Phillips–Schmidt–Shin (KPSS) test are used for testing a null hypothesis that an observable time series is stationary around the trend. The null hypothesis is not rejected for the series yet value still close to the critical values. More stationary series may be achievable by removing weekly seasonality.\n",
    " \n",
    "  \n",
    " In order to achieve that, three new columns are created for means values for day, month, year respectively. Then for every consumption value day and month effect on consumption will be replaced by that year's average.\n",
    " "
   ]
  },
  {
   "cell_type": "code",
   "execution_count": 9,
   "metadata": {},
   "outputs": [
    {
     "data": {
      "text/html": [
       "<table>\n",
       "<thead><tr><th scope=col>Date</th><th scope=col>Consumption</th></tr></thead>\n",
       "<tbody>\n",
       "\t<tr><td>2017-01-01</td><td>27099.66  </td></tr>\n",
       "\t<tr><td>2017-01-02</td><td>33141.88  </td></tr>\n",
       "\t<tr><td>2017-01-03</td><td>34769.59  </td></tr>\n",
       "\t<tr><td>2017-01-04</td><td>35250.70  </td></tr>\n",
       "\t<tr><td>2017-01-05</td><td>35109.35  </td></tr>\n",
       "\t<tr><td>2017-01-06</td><td>33866.49  </td></tr>\n",
       "</tbody>\n",
       "</table>\n"
      ],
      "text/latex": [
       "\\begin{tabular}{r|ll}\n",
       " Date & Consumption\\\\\n",
       "\\hline\n",
       "\t 2017-01-01 & 27099.66  \\\\\n",
       "\t 2017-01-02 & 33141.88  \\\\\n",
       "\t 2017-01-03 & 34769.59  \\\\\n",
       "\t 2017-01-04 & 35250.70  \\\\\n",
       "\t 2017-01-05 & 35109.35  \\\\\n",
       "\t 2017-01-06 & 33866.49  \\\\\n",
       "\\end{tabular}\n"
      ],
      "text/markdown": [
       "\n",
       "| Date | Consumption |\n",
       "|---|---|\n",
       "| 2017-01-01 | 27099.66   |\n",
       "| 2017-01-02 | 33141.88   |\n",
       "| 2017-01-03 | 34769.59   |\n",
       "| 2017-01-04 | 35250.70   |\n",
       "| 2017-01-05 | 35109.35   |\n",
       "| 2017-01-06 | 33866.49   |\n",
       "\n"
      ],
      "text/plain": [
       "  Date       Consumption\n",
       "1 2017-01-01 27099.66   \n",
       "2 2017-01-02 33141.88   \n",
       "3 2017-01-03 34769.59   \n",
       "4 2017-01-04 35250.70   \n",
       "5 2017-01-05 35109.35   \n",
       "6 2017-01-06 33866.49   "
      ]
     },
     "metadata": {},
     "output_type": "display_data"
    },
    {
     "data": {
      "text/html": [
       "<table>\n",
       "<thead><tr><th scope=col>Date</th><th scope=col>Consumption</th><th scope=col>day</th><th scope=col>day_adjustment</th><th scope=col>month</th><th scope=col>month_adjustment</th><th scope=col>year</th><th scope=col>year_adjustment</th><th scope=col>Adjusted_Consumption</th></tr></thead>\n",
       "<tbody>\n",
       "\t<tr><td>2017-01-01</td><td>27099.66  </td><td>Pazar     </td><td>29217.90  </td><td>1         </td><td>34445.92  </td><td>2017      </td><td>33102.19  </td><td>29640.22  </td></tr>\n",
       "\t<tr><td>2017-01-02</td><td>33141.88  </td><td>Pazartesi </td><td>33267.64  </td><td>1         </td><td>34445.92  </td><td>2017      </td><td>33102.19  </td><td>31632.70  </td></tr>\n",
       "\t<tr><td>2017-01-03</td><td>34769.59  </td><td>Salı      </td><td>34173.19  </td><td>1         </td><td>34445.92  </td><td>2017      </td><td>33102.19  </td><td>32354.86  </td></tr>\n",
       "\t<tr><td>2017-01-04</td><td>35250.70  </td><td>Çarşamba  </td><td>34418.98  </td><td>1         </td><td>34445.92  </td><td>2017      </td><td>33102.19  </td><td>32590.19  </td></tr>\n",
       "\t<tr><td>2017-01-05</td><td>35109.35  </td><td>Perşembe  </td><td>34517.76  </td><td>1         </td><td>34445.92  </td><td>2017      </td><td>33102.19  </td><td>32350.06  </td></tr>\n",
       "\t<tr><td>2017-01-06</td><td>33866.49  </td><td>Cuma      </td><td>34180.70  </td><td>1         </td><td>34445.92  </td><td>2017      </td><td>33102.19  </td><td>31444.25  </td></tr>\n",
       "\t<tr><td>2017-01-07</td><td>32339.15  </td><td>Cumartesi </td><td>32536.25  </td><td>1         </td><td>34445.92  </td><td>2017      </td><td>33102.19  </td><td>31561.36  </td></tr>\n",
       "\t<tr><td>2017-01-08</td><td>30098.06  </td><td>Pazar     </td><td>29217.90  </td><td>1         </td><td>34445.92  </td><td>2017      </td><td>33102.19  </td><td>32638.62  </td></tr>\n",
       "\t<tr><td>2017-01-09</td><td>34605.60  </td><td>Pazartesi </td><td>33267.64  </td><td>1         </td><td>34445.92  </td><td>2017      </td><td>33102.19  </td><td>33096.42  </td></tr>\n",
       "\t<tr><td>2017-01-10</td><td>35508.33  </td><td>Salı      </td><td>34173.19  </td><td>1         </td><td>34445.92  </td><td>2017      </td><td>33102.19  </td><td>33093.60  </td></tr>\n",
       "\t<tr><td>2017-01-11</td><td>34790.24  </td><td>Çarşamba  </td><td>34418.98  </td><td>1         </td><td>34445.92  </td><td>2017      </td><td>33102.19  </td><td>32129.73  </td></tr>\n",
       "\t<tr><td>2017-01-12</td><td>35124.93  </td><td>Perşembe  </td><td>34517.76  </td><td>1         </td><td>34445.92  </td><td>2017      </td><td>33102.19  </td><td>32365.64  </td></tr>\n",
       "\t<tr><td>2017-01-13</td><td>34800.69  </td><td>Cuma      </td><td>34180.70  </td><td>1         </td><td>34445.92  </td><td>2017      </td><td>33102.19  </td><td>32378.46  </td></tr>\n",
       "\t<tr><td>2017-01-14</td><td>33156.36  </td><td>Cumartesi </td><td>32536.25  </td><td>1         </td><td>34445.92  </td><td>2017      </td><td>33102.19  </td><td>32378.58  </td></tr>\n",
       "\t<tr><td>2017-01-15</td><td>29827.40  </td><td>Pazar     </td><td>29217.90  </td><td>1         </td><td>34445.92  </td><td>2017      </td><td>33102.19  </td><td>32367.96  </td></tr>\n",
       "</tbody>\n",
       "</table>\n"
      ],
      "text/latex": [
       "\\begin{tabular}{r|lllllllll}\n",
       " Date & Consumption & day & day\\_adjustment & month & month\\_adjustment & year & year\\_adjustment & Adjusted\\_Consumption\\\\\n",
       "\\hline\n",
       "\t 2017-01-01 & 27099.66   & Pazar      & 29217.90   & 1          & 34445.92   & 2017       & 33102.19   & 29640.22  \\\\\n",
       "\t 2017-01-02 & 33141.88   & Pazartesi  & 33267.64   & 1          & 34445.92   & 2017       & 33102.19   & 31632.70  \\\\\n",
       "\t 2017-01-03 & 34769.59   & Salı       & 34173.19   & 1          & 34445.92   & 2017       & 33102.19   & 32354.86  \\\\\n",
       "\t 2017-01-04 & 35250.70   & Çarşamba   & 34418.98   & 1          & 34445.92   & 2017       & 33102.19   & 32590.19  \\\\\n",
       "\t 2017-01-05 & 35109.35   & Perşembe   & 34517.76   & 1          & 34445.92   & 2017       & 33102.19   & 32350.06  \\\\\n",
       "\t 2017-01-06 & 33866.49   & Cuma       & 34180.70   & 1          & 34445.92   & 2017       & 33102.19   & 31444.25  \\\\\n",
       "\t 2017-01-07 & 32339.15   & Cumartesi  & 32536.25   & 1          & 34445.92   & 2017       & 33102.19   & 31561.36  \\\\\n",
       "\t 2017-01-08 & 30098.06   & Pazar      & 29217.90   & 1          & 34445.92   & 2017       & 33102.19   & 32638.62  \\\\\n",
       "\t 2017-01-09 & 34605.60   & Pazartesi  & 33267.64   & 1          & 34445.92   & 2017       & 33102.19   & 33096.42  \\\\\n",
       "\t 2017-01-10 & 35508.33   & Salı       & 34173.19   & 1          & 34445.92   & 2017       & 33102.19   & 33093.60  \\\\\n",
       "\t 2017-01-11 & 34790.24   & Çarşamba   & 34418.98   & 1          & 34445.92   & 2017       & 33102.19   & 32129.73  \\\\\n",
       "\t 2017-01-12 & 35124.93   & Perşembe   & 34517.76   & 1          & 34445.92   & 2017       & 33102.19   & 32365.64  \\\\\n",
       "\t 2017-01-13 & 34800.69   & Cuma       & 34180.70   & 1          & 34445.92   & 2017       & 33102.19   & 32378.46  \\\\\n",
       "\t 2017-01-14 & 33156.36   & Cumartesi  & 32536.25   & 1          & 34445.92   & 2017       & 33102.19   & 32378.58  \\\\\n",
       "\t 2017-01-15 & 29827.40   & Pazar      & 29217.90   & 1          & 34445.92   & 2017       & 33102.19   & 32367.96  \\\\\n",
       "\\end{tabular}\n"
      ],
      "text/markdown": [
       "\n",
       "| Date | Consumption | day | day_adjustment | month | month_adjustment | year | year_adjustment | Adjusted_Consumption |\n",
       "|---|---|---|---|---|---|---|---|---|\n",
       "| 2017-01-01 | 27099.66   | Pazar      | 29217.90   | 1          | 34445.92   | 2017       | 33102.19   | 29640.22   |\n",
       "| 2017-01-02 | 33141.88   | Pazartesi  | 33267.64   | 1          | 34445.92   | 2017       | 33102.19   | 31632.70   |\n",
       "| 2017-01-03 | 34769.59   | Salı       | 34173.19   | 1          | 34445.92   | 2017       | 33102.19   | 32354.86   |\n",
       "| 2017-01-04 | 35250.70   | Çarşamba   | 34418.98   | 1          | 34445.92   | 2017       | 33102.19   | 32590.19   |\n",
       "| 2017-01-05 | 35109.35   | Perşembe   | 34517.76   | 1          | 34445.92   | 2017       | 33102.19   | 32350.06   |\n",
       "| 2017-01-06 | 33866.49   | Cuma       | 34180.70   | 1          | 34445.92   | 2017       | 33102.19   | 31444.25   |\n",
       "| 2017-01-07 | 32339.15   | Cumartesi  | 32536.25   | 1          | 34445.92   | 2017       | 33102.19   | 31561.36   |\n",
       "| 2017-01-08 | 30098.06   | Pazar      | 29217.90   | 1          | 34445.92   | 2017       | 33102.19   | 32638.62   |\n",
       "| 2017-01-09 | 34605.60   | Pazartesi  | 33267.64   | 1          | 34445.92   | 2017       | 33102.19   | 33096.42   |\n",
       "| 2017-01-10 | 35508.33   | Salı       | 34173.19   | 1          | 34445.92   | 2017       | 33102.19   | 33093.60   |\n",
       "| 2017-01-11 | 34790.24   | Çarşamba   | 34418.98   | 1          | 34445.92   | 2017       | 33102.19   | 32129.73   |\n",
       "| 2017-01-12 | 35124.93   | Perşembe   | 34517.76   | 1          | 34445.92   | 2017       | 33102.19   | 32365.64   |\n",
       "| 2017-01-13 | 34800.69   | Cuma       | 34180.70   | 1          | 34445.92   | 2017       | 33102.19   | 32378.46   |\n",
       "| 2017-01-14 | 33156.36   | Cumartesi  | 32536.25   | 1          | 34445.92   | 2017       | 33102.19   | 32378.58   |\n",
       "| 2017-01-15 | 29827.40   | Pazar      | 29217.90   | 1          | 34445.92   | 2017       | 33102.19   | 32367.96   |\n",
       "\n"
      ],
      "text/plain": [
       "   Date       Consumption day       day_adjustment month month_adjustment year\n",
       "1  2017-01-01 27099.66    Pazar     29217.90       1     34445.92         2017\n",
       "2  2017-01-02 33141.88    Pazartesi 33267.64       1     34445.92         2017\n",
       "3  2017-01-03 34769.59    Salı      34173.19       1     34445.92         2017\n",
       "4  2017-01-04 35250.70    Çarşamba  34418.98       1     34445.92         2017\n",
       "5  2017-01-05 35109.35    Perşembe  34517.76       1     34445.92         2017\n",
       "6  2017-01-06 33866.49    Cuma      34180.70       1     34445.92         2017\n",
       "7  2017-01-07 32339.15    Cumartesi 32536.25       1     34445.92         2017\n",
       "8  2017-01-08 30098.06    Pazar     29217.90       1     34445.92         2017\n",
       "9  2017-01-09 34605.60    Pazartesi 33267.64       1     34445.92         2017\n",
       "10 2017-01-10 35508.33    Salı      34173.19       1     34445.92         2017\n",
       "11 2017-01-11 34790.24    Çarşamba  34418.98       1     34445.92         2017\n",
       "12 2017-01-12 35124.93    Perşembe  34517.76       1     34445.92         2017\n",
       "13 2017-01-13 34800.69    Cuma      34180.70       1     34445.92         2017\n",
       "14 2017-01-14 33156.36    Cumartesi 32536.25       1     34445.92         2017\n",
       "15 2017-01-15 29827.40    Pazar     29217.90       1     34445.92         2017\n",
       "   year_adjustment Adjusted_Consumption\n",
       "1  33102.19        29640.22            \n",
       "2  33102.19        31632.70            \n",
       "3  33102.19        32354.86            \n",
       "4  33102.19        32590.19            \n",
       "5  33102.19        32350.06            \n",
       "6  33102.19        31444.25            \n",
       "7  33102.19        31561.36            \n",
       "8  33102.19        32638.62            \n",
       "9  33102.19        33096.42            \n",
       "10 33102.19        33093.60            \n",
       "11 33102.19        32129.73            \n",
       "12 33102.19        32365.64            \n",
       "13 33102.19        32378.46            \n",
       "14 33102.19        32378.58            \n",
       "15 33102.19        32367.96            "
      ]
     },
     "metadata": {},
     "output_type": "display_data"
    }
   ],
   "source": [
    "head(DailyM_DT)\n",
    "DailyM_DT <- DailyM_DT[, day := as.factor(weekdays(Date))]\n",
    "DailyM_DT <- DailyM_DT[, day_adjustment := mean(Consumption),by=day]\n",
    "\n",
    "DailyM_DT <- DailyM_DT[, month := as.factor(month(Date))]\n",
    "DailyM_DT <- DailyM_DT[, month_adjustment := mean(Consumption),by=month]\n",
    "\n",
    "DailyM_DT <- DailyM_DT[, year := as.factor(year(Date))]\n",
    "DailyM_DT <- DailyM_DT[, year_adjustment := mean(Consumption),by=year]\n",
    "\n",
    "DailyM_DT <- DailyM_DT[, Adjusted_Consumption := Consumption- day_adjustment - month_adjustment + year_adjustment*2 ]\n",
    "\n",
    "\n",
    "head(DailyM_DT,15)\n"
   ]
  },
  {
   "cell_type": "code",
   "execution_count": 10,
   "metadata": {},
   "outputs": [
    {
     "data": {
      "image/png": "[encoded data removed]",
      "text/plain": [
       "plot without title"
      ]
     },
     "metadata": {},
     "output_type": "display_data"
    }
   ],
   "source": [
    " p1 <- ggplot( data= DailyM_DT, aes(x=Date, y=Adjusted_Consumption) ) +\n",
    "  theme_classic()+\n",
    "  theme(plot.title = element_text(size = 12, face = \"bold\",hjust = 0.5))+\n",
    "  labs( x=\"Date\",y=\"Consumption (MWh)\",title=(\"Adjusted Consumption\"))+\n",
    "  geom_line(color=\"#2f4b7c\")\n",
    "\n",
    "p1"
   ]
  },
  {
   "cell_type": "code",
   "execution_count": 11,
   "metadata": {},
   "outputs": [
    {
     "data": {
      "image/png": "[encoded data removed]",
      "text/plain": [
       "Plot with title \"Autocorrelation of Adjusted Consumption\""
      ]
     },
     "metadata": {},
     "output_type": "display_data"
    },
    {
     "data": {
      "image/png": "[encoded data removed]",
      "text/plain": [
       "Plot with title \"Partial Autocorrelation of Adjusted Consumption\""
      ]
     },
     "metadata": {},
     "output_type": "display_data"
    }
   ],
   "source": [
    "acf(DailyM_DT$Adjusted_Consumption, main= \"Autocorrelation of Adjusted Consumption\")\n",
    "pacf(DailyM_DT$Adjusted_Consumption, main= \"Partial Autocorrelation of Adjusted Consumption\")\n"
   ]
  },
  {
   "cell_type": "markdown",
   "metadata": {},
   "source": [
    "The adjustments based on the day, month, year has removed the seasonality effect on the lag 7. "
   ]
  },
  {
   "cell_type": "code",
   "execution_count": 12,
   "metadata": {},
   "outputs": [],
   "source": [
    "DailyM_DT <- DailyM_DT[,lag1:=shift(Adjusted_Consumption,1)]\n",
    "DailyM_DT <- DailyM_DT[, Adjusted_Consumption_WithLag1 := Adjusted_Consumption - lag1 ]"
   ]
  },
  {
   "cell_type": "code",
   "execution_count": 13,
   "metadata": {},
   "outputs": [
    {
     "name": "stderr",
     "output_type": "stream",
     "text": [
      "Warning message:\n",
      "\"Removed 1 row(s) containing missing values (geom_path).\""
     ]
    },
    {
     "data": {
      "image/png": "[encoded data removed]",
      "text/plain": [
       "plot without title"
      ]
     },
     "metadata": {},
     "output_type": "display_data"
    }
   ],
   "source": [
    " p1 <- ggplot( data= DailyM_DT, aes(x=Date, y=Adjusted_Consumption_WithLag1) ) +\n",
    "  theme_classic()+\n",
    "  theme(plot.title = element_text(size = 12, face = \"bold\",hjust = 0.5))+\n",
    "  labs( x=\"Date\",y=\"Consumption (MWh)\",title=(\"Adjusted Consumption Minus Lag1\"))+\n",
    "  geom_line(color=\"#2f4b7c\")\n",
    "\n",
    "p1"
   ]
  },
  {
   "cell_type": "code",
   "execution_count": 14,
   "metadata": {},
   "outputs": [
    {
     "data": {
      "image/png": "[encoded data removed]",
      "text/plain": [
       "Plot with title \"Autocorrelation of Adjusted Consumption Minus Lag1\""
      ]
     },
     "metadata": {},
     "output_type": "display_data"
    },
    {
     "data": {
      "image/png": "[encoded data removed]",
      "text/plain": [
       "Plot with title \"Partial Autocorrelation of Adjusted Consumption Minus Lag1\""
      ]
     },
     "metadata": {},
     "output_type": "display_data"
    }
   ],
   "source": [
    "acf(DailyM_DT$Adjusted_Consumption_WithLag1[-1], main= \"Autocorrelation of Adjusted Consumption Minus Lag1\")\n",
    "pacf(DailyM_DT$Adjusted_Consumption_WithLag1[-1], main= \"Partial Autocorrelation of Adjusted Consumption Minus Lag1\")"
   ]
  },
  {
   "cell_type": "code",
   "execution_count": 15,
   "metadata": {},
   "outputs": [
    {
     "data": {
      "text/plain": [
       "\n",
       "####################### \n",
       "# KPSS Unit Root Test # \n",
       "####################### \n",
       "\n",
       "Test is of type: mu with 7 lags. \n",
       "\n",
       "Value of test-statistic is: 0.0067 \n",
       "\n",
       "Critical value for a significance level of: \n",
       "                10pct  5pct 2.5pct  1pct\n",
       "critical values 0.347 0.463  0.574 0.739\n"
      ]
     },
     "metadata": {},
     "output_type": "display_data"
    }
   ],
   "source": [
    "summary(ur.kpss(DailyM_DT$Adjusted_Consumption_WithLag1))"
   ]
  },
  {
   "cell_type": "code",
   "execution_count": 16,
   "metadata": {},
   "outputs": [
    {
     "name": "stdout",
     "output_type": "stream",
     "text": [
      "[1] \"Acual Consumption\"\n",
      "[1] \"Adjusted Consumption With Lag1\"\n"
     ]
    },
    {
     "data": {
      "image/png": "[encoded data removed]",
      "text/plain": [
       "plot without title"
      ]
     },
     "metadata": {},
     "output_type": "display_data"
    },
    {
     "name": "stdout",
     "output_type": "stream",
     "text": [
      "[1] \"Adjusted Consumption With Lag1 Outliers Removed\"\n"
     ]
    },
    {
     "data": {
      "image/png": "[encoded data removed]",
      "text/plain": [
       "plot without title"
      ]
     },
     "metadata": {},
     "output_type": "display_data"
    },
    {
     "data": {
      "image/png": "[encoded data removed]",
      "text/plain": [
       "plot without title"
      ]
     },
     "metadata": {},
     "output_type": "display_data"
    }
   ],
   "source": [
    "#Convert data into Time-Series Object\n",
    "TS1<-ts(DailyM_DT$Consumption,frequency=7)\n",
    "DTS1 <- decompose(TS1,type=\"additive\")\n",
    "print(\"Acual Consumption\")\n",
    "plot(DTS1)\n",
    "\n",
    "TS2 <-ts(DailyM_DT$Adjusted_Consumption_WithLag1[-1],frequency=7)\n",
    "DTS2 <- decompose(TS2,type=\"additive\")\n",
    "print(\"Adjusted Consumption With Lag1\")\n",
    "plot(DTS2)\n",
    "\n",
    "TS3 <-ts(DailyM_DT$Adjusted_Consumption_WithLag1[-1],frequency=7)\n",
    "TS3 <- tsclean(TS3)\n",
    "DTS3 <- decompose(TS3,type=\"additive\")\n",
    "print(\"Adjusted Consumption With Lag1 Outliers Removed\")\n",
    "plot(DTS3)\n"
   ]
  },
  {
   "cell_type": "markdown",
   "metadata": {},
   "source": [
    "etsydtuykulışoı\n",
    "\n",
    "## Forecasting\n",
    "### Model 1\n"
   ]
  },
  {
   "cell_type": "code",
   "execution_count": 17,
   "metadata": {},
   "outputs": [
    {
     "name": "stdout",
     "output_type": "stream",
     "text": [
      "\n",
      " Fitting models using approximations to speed things up...\n",
      "\n",
      " ARIMA(2,0,2) with non-zero mean : 24579.9\n",
      " ARIMA(0,0,0) with non-zero mean : 24747.38\n",
      " ARIMA(1,0,0) with non-zero mean : 24727.38\n",
      " ARIMA(0,0,1) with non-zero mean : 24723.95\n",
      " ARIMA(0,0,0) with zero mean     : 24745.4\n",
      " ARIMA(1,0,2) with non-zero mean : 24593.33\n",
      " ARIMA(2,0,1) with non-zero mean : 24577.92\n",
      " ARIMA(1,0,1) with non-zero mean : 24715.92\n",
      " ARIMA(2,0,0) with non-zero mean : 24706.4\n",
      " ARIMA(3,0,1) with non-zero mean : 24580.57\n",
      " ARIMA(3,0,0) with non-zero mean : 24706.13\n",
      " ARIMA(3,0,2) with non-zero mean : 24579.39\n",
      " ARIMA(2,0,1) with zero mean     : 24576.06\n",
      " ARIMA(1,0,1) with zero mean     : 24713.84\n",
      " ARIMA(2,0,0) with zero mean     : 24704.4\n",
      " ARIMA(3,0,1) with zero mean     : 24578.72\n",
      " ARIMA(2,0,2) with zero mean     : 24578.01\n",
      " ARIMA(1,0,0) with zero mean     : 24725.38\n",
      " ARIMA(1,0,2) with zero mean     : 24591.32\n",
      " ARIMA(3,0,0) with zero mean     : 24704.13\n",
      " ARIMA(3,0,2) with zero mean     : 24577.52\n",
      "\n",
      " Now re-fitting the best model(s) without approximations...\n",
      "\n",
      " ARIMA(2,0,1) with zero mean     : 24579.78\n",
      "\n",
      " Best model: ARIMA(2,0,1) with zero mean     \n",
      "\n",
      "[1] \"AIC:\"\n"
     ]
    },
    {
     "data": {
      "text/html": [
       "24579.7489812305"
      ],
      "text/latex": [
       "24579.7489812305"
      ],
      "text/markdown": [
       "24579.7489812305"
      ],
      "text/plain": [
       "[1] 24579.75"
      ]
     },
     "metadata": {},
     "output_type": "display_data"
    },
    {
     "name": "stdout",
     "output_type": "stream",
     "text": [
      "[1] \"BIC:\"\n"
     ]
    },
    {
     "data": {
      "text/html": [
       "24600.9156060672"
      ],
      "text/latex": [
       "24600.9156060672"
      ],
      "text/markdown": [
       "24600.9156060672"
      ],
      "text/plain": [
       "[1] 24600.92"
      ]
     },
     "metadata": {},
     "output_type": "display_data"
    }
   ],
   "source": [
    "model1 <- auto.arima(DailyM_DT$Adjusted_Consumption_WithLag1[-1],seasonal=F,trace=T)\n",
    "print(\"AIC:\")\n",
    "AIC(model1)\n",
    "print(\"BIC:\")\n",
    "BIC(model1)"
   ]
  },
  {
   "cell_type": "code",
   "execution_count": 18,
   "metadata": {},
   "outputs": [
    {
     "data": {
      "text/plain": [
       "     Point Forecast     Lo 80     Hi 80     Lo 95    Hi 95\n",
       "1469    -485.911110 -1823.720  851.8974 -2531.913 1560.091\n",
       "1470    -472.099520 -1810.574  866.3752 -2519.120 1574.921\n",
       "1471    -371.428938 -1732.913  990.0547 -2453.638 1710.781\n",
       "1472    -272.627461 -1658.958 1113.7030 -2392.837 1847.582\n",
       "1473    -194.671529 -1596.798 1207.4551 -2339.039 1949.696\n",
       "1474    -137.390337 -1548.085 1273.3039 -2294.861 2020.080\n",
       "1475     -96.469922 -1511.540 1318.6005 -2260.633 2067.694\n",
       "1476     -67.584531 -1484.836 1349.6666 -2235.083 2099.914\n",
       "1477     -47.300644 -1465.627 1371.0258 -2216.444 2121.842\n",
       "1478     -33.089696 -1451.944 1385.7644 -2203.040 2136.860\n",
       "1479     -23.143657 -1442.256 1395.9689 -2193.489 2147.202\n",
       "1480     -16.185742 -1435.425 1403.0533 -2186.725 2154.353\n",
       "1481     -11.319207 -1430.620 1407.9817 -2181.953 2159.314\n",
       "1482      -7.915744 -1427.247 1411.4155 -2178.596 2162.764\n",
       "1483      -5.535591 -1424.882 1413.8104 -2176.238 2165.167"
      ]
     },
     "metadata": {},
     "output_type": "display_data"
    }
   ],
   "source": [
    "forecasted <- forecast(model1, h = 15)\n",
    "forecasted"
   ]
  },
  {
   "cell_type": "code",
   "execution_count": 39,
   "metadata": {},
   "outputs": [
    {
     "name": "stdout",
     "output_type": "stream",
     "text": [
      " [1] 31870.26 28196.93 32952.49 34043.21 34091.51 33089.02 32891.41 31192.19\n",
      " [9] 27826.67 31832.70 33198.26 32873.81 32482.63 32243.07 31120.21\n"
     ]
    },
    {
     "data": {
      "text/html": [
       "'numeric'"
      ],
      "text/latex": [
       "'numeric'"
      ],
      "text/markdown": [
       "'numeric'"
      ],
      "text/plain": [
       "[1] \"numeric\""
      ]
     },
     "metadata": {},
     "output_type": "display_data"
    },
    {
     "data": {
      "text/html": [
       "<table>\n",
       "<thead><tr><th scope=col>Date</th><th scope=col>Consumption</th><th scope=col>Model1_Prediction</th><th scope=col>Model2_Prediction</th><th scope=col>Abs_Error</th><th scope=col>Perc_Error</th></tr></thead>\n",
       "<tbody>\n",
       "\t<tr><td>2021-01-09</td><td>34781.56  </td><td>31870.26  </td><td>33762.62  </td><td>1018.9438 </td><td>2.9295517 </td></tr>\n",
       "\t<tr><td>2021-01-10</td><td>31841.90  </td><td>28196.93  </td><td>30561.03  </td><td>1280.8725 </td><td>4.0226007 </td></tr>\n",
       "\t<tr><td>2021-01-11</td><td>36431.46  </td><td>32952.49  </td><td>35687.66  </td><td> 743.8004 </td><td>2.0416429 </td></tr>\n",
       "\t<tr><td>2021-01-12</td><td>36897.99  </td><td>34043.21  </td><td>37050.66  </td><td> 152.6655 </td><td>0.4137502 </td></tr>\n",
       "\t<tr><td>2021-01-13</td><td>37409.87  </td><td>34091.51  </td><td>37293.27  </td><td> 116.6023 </td><td>0.3116887 </td></tr>\n",
       "\t<tr><td>2021-01-14</td><td>38056.05  </td><td>33089.02  </td><td>36427.82  </td><td>1628.2353 </td><td>4.2785187 </td></tr>\n",
       "\t<tr><td>2021-01-15</td><td>38170.38  </td><td>32891.41  </td><td>36326.31  </td><td>1844.0688 </td><td>4.8311509 </td></tr>\n",
       "\t<tr><td>2021-01-16</td><td>35667.35  </td><td>31192.19  </td><td>34694.32  </td><td> 973.0213 </td><td>2.7280451 </td></tr>\n",
       "\t<tr><td>2021-01-17</td><td>32557.96  </td><td>27826.67  </td><td>31375.75  </td><td>1182.2112 </td><td>3.6310976 </td></tr>\n",
       "\t<tr><td>2021-01-18</td><td>38447.89  </td><td>31832.70  </td><td>35414.51  </td><td>3033.3795 </td><td>7.8895869 </td></tr>\n",
       "\t<tr><td>2021-01-19</td><td>39723.73  </td><td>33198.26  </td><td>36802.86  </td><td>2920.8773 </td><td>7.3529779 </td></tr>\n",
       "\t<tr><td>2021-01-20</td><td>39960.92  </td><td>32873.81  </td><td>36494.24  </td><td>3466.6798 </td><td>8.6751746 </td></tr>\n",
       "\t<tr><td>2021-01-21</td><td>39791.07  </td><td>32482.63  </td><td>36114.03  </td><td>3677.0419 </td><td>9.2408729 </td></tr>\n",
       "\t<tr><td>2021-01-22</td><td>38902.97  </td><td>32243.07  </td><td>35882.02  </td><td>3020.9537 </td><td>7.7653542 </td></tr>\n",
       "\t<tr><td>2021-01-23</td><td>35635.70  </td><td>31120.21  </td><td>34764.34  </td><td> 871.3604 </td><td>2.4451895 </td></tr>\n",
       "</tbody>\n",
       "</table>\n"
      ],
      "text/latex": [
       "\\begin{tabular}{r|llllll}\n",
       " Date & Consumption & Model1\\_Prediction & Model2\\_Prediction & Abs\\_Error & Perc\\_Error\\\\\n",
       "\\hline\n",
       "\t 2021-01-09 & 34781.56   & 31870.26   & 33762.62   & 1018.9438  & 2.9295517 \\\\\n",
       "\t 2021-01-10 & 31841.90   & 28196.93   & 30561.03   & 1280.8725  & 4.0226007 \\\\\n",
       "\t 2021-01-11 & 36431.46   & 32952.49   & 35687.66   &  743.8004  & 2.0416429 \\\\\n",
       "\t 2021-01-12 & 36897.99   & 34043.21   & 37050.66   &  152.6655  & 0.4137502 \\\\\n",
       "\t 2021-01-13 & 37409.87   & 34091.51   & 37293.27   &  116.6023  & 0.3116887 \\\\\n",
       "\t 2021-01-14 & 38056.05   & 33089.02   & 36427.82   & 1628.2353  & 4.2785187 \\\\\n",
       "\t 2021-01-15 & 38170.38   & 32891.41   & 36326.31   & 1844.0688  & 4.8311509 \\\\\n",
       "\t 2021-01-16 & 35667.35   & 31192.19   & 34694.32   &  973.0213  & 2.7280451 \\\\\n",
       "\t 2021-01-17 & 32557.96   & 27826.67   & 31375.75   & 1182.2112  & 3.6310976 \\\\\n",
       "\t 2021-01-18 & 38447.89   & 31832.70   & 35414.51   & 3033.3795  & 7.8895869 \\\\\n",
       "\t 2021-01-19 & 39723.73   & 33198.26   & 36802.86   & 2920.8773  & 7.3529779 \\\\\n",
       "\t 2021-01-20 & 39960.92   & 32873.81   & 36494.24   & 3466.6798  & 8.6751746 \\\\\n",
       "\t 2021-01-21 & 39791.07   & 32482.63   & 36114.03   & 3677.0419  & 9.2408729 \\\\\n",
       "\t 2021-01-22 & 38902.97   & 32243.07   & 35882.02   & 3020.9537  & 7.7653542 \\\\\n",
       "\t 2021-01-23 & 35635.70   & 31120.21   & 34764.34   &  871.3604  & 2.4451895 \\\\\n",
       "\\end{tabular}\n"
      ],
      "text/markdown": [
       "\n",
       "| Date | Consumption | Model1_Prediction | Model2_Prediction | Abs_Error | Perc_Error |\n",
       "|---|---|---|---|---|---|\n",
       "| 2021-01-09 | 34781.56   | 31870.26   | 33762.62   | 1018.9438  | 2.9295517  |\n",
       "| 2021-01-10 | 31841.90   | 28196.93   | 30561.03   | 1280.8725  | 4.0226007  |\n",
       "| 2021-01-11 | 36431.46   | 32952.49   | 35687.66   |  743.8004  | 2.0416429  |\n",
       "| 2021-01-12 | 36897.99   | 34043.21   | 37050.66   |  152.6655  | 0.4137502  |\n",
       "| 2021-01-13 | 37409.87   | 34091.51   | 37293.27   |  116.6023  | 0.3116887  |\n",
       "| 2021-01-14 | 38056.05   | 33089.02   | 36427.82   | 1628.2353  | 4.2785187  |\n",
       "| 2021-01-15 | 38170.38   | 32891.41   | 36326.31   | 1844.0688  | 4.8311509  |\n",
       "| 2021-01-16 | 35667.35   | 31192.19   | 34694.32   |  973.0213  | 2.7280451  |\n",
       "| 2021-01-17 | 32557.96   | 27826.67   | 31375.75   | 1182.2112  | 3.6310976  |\n",
       "| 2021-01-18 | 38447.89   | 31832.70   | 35414.51   | 3033.3795  | 7.8895869  |\n",
       "| 2021-01-19 | 39723.73   | 33198.26   | 36802.86   | 2920.8773  | 7.3529779  |\n",
       "| 2021-01-20 | 39960.92   | 32873.81   | 36494.24   | 3466.6798  | 8.6751746  |\n",
       "| 2021-01-21 | 39791.07   | 32482.63   | 36114.03   | 3677.0419  | 9.2408729  |\n",
       "| 2021-01-22 | 38902.97   | 32243.07   | 35882.02   | 3020.9537  | 7.7653542  |\n",
       "| 2021-01-23 | 35635.70   | 31120.21   | 34764.34   |  871.3604  | 2.4451895  |\n",
       "\n"
      ],
      "text/plain": [
       "   Date       Consumption Model1_Prediction Model2_Prediction Abs_Error\n",
       "1  2021-01-09 34781.56    31870.26          33762.62          1018.9438\n",
       "2  2021-01-10 31841.90    28196.93          30561.03          1280.8725\n",
       "3  2021-01-11 36431.46    32952.49          35687.66           743.8004\n",
       "4  2021-01-12 36897.99    34043.21          37050.66           152.6655\n",
       "5  2021-01-13 37409.87    34091.51          37293.27           116.6023\n",
       "6  2021-01-14 38056.05    33089.02          36427.82          1628.2353\n",
       "7  2021-01-15 38170.38    32891.41          36326.31          1844.0688\n",
       "8  2021-01-16 35667.35    31192.19          34694.32           973.0213\n",
       "9  2021-01-17 32557.96    27826.67          31375.75          1182.2112\n",
       "10 2021-01-18 38447.89    31832.70          35414.51          3033.3795\n",
       "11 2021-01-19 39723.73    33198.26          36802.86          2920.8773\n",
       "12 2021-01-20 39960.92    32873.81          36494.24          3466.6798\n",
       "13 2021-01-21 39791.07    32482.63          36114.03          3677.0419\n",
       "14 2021-01-22 38902.97    32243.07          35882.02          3020.9537\n",
       "15 2021-01-23 35635.70    31120.21          34764.34           871.3604\n",
       "   Perc_Error\n",
       "1  2.9295517 \n",
       "2  4.0226007 \n",
       "3  2.0416429 \n",
       "4  0.4137502 \n",
       "5  0.3116887 \n",
       "6  4.2785187 \n",
       "7  4.8311509 \n",
       "8  2.7280451 \n",
       "9  3.6310976 \n",
       "10 7.8895869 \n",
       "11 7.3529779 \n",
       "12 8.6751746 \n",
       "13 9.2408729 \n",
       "14 7.7653542 \n",
       "15 2.4451895 "
      ]
     },
     "metadata": {},
     "output_type": "display_data"
    }
   ],
   "source": [
    "prediction <- rep(0, 15)\n",
    "\n",
    "prediction[1] <- forecasted$mean[1] + DailyM_DT$Adjusted_Consumption_WithLag1[nrow(DailyM_DT)]\n",
    "for (i in 2:15){\n",
    "  prediction[i] <- prediction[i-1]+forecasted$mean[i]\n",
    "}\n",
    "\n",
    "prediction <- prediction - 2*DailyM_DT$year_adjustment[1469]\n",
    "prediction <- prediction + DailyM_DT$day_adjustment[7:21]\n",
    "prediction <- prediction + DailyM_DT$month_adjustment[1]\n",
    "prediction <- prediction + DailyM_DT$lag1[7:21]\n",
    "last_trend_value <-tail(DTS2$trend[!is.na(DTS2$trend)],1)\n",
    "lt <- rep(last_trend_value*2, 15)\n",
    "prediction <- prediction + lt\n",
    "\n",
    "date <- as.Date('2021-01-09')\n",
    "for(k in 2:14){\n",
    "  date[k] <- date[k-1]+1\n",
    "}\n",
    "\n",
    "print(prediction)\n",
    "class(prediction)\n",
    "\n",
    "\n",
    "Forecast_DT[,Model1_Prediction:=prediction,]\n",
    "Forecast_DT"
   ]
  },
  {
   "cell_type": "markdown",
   "metadata": {},
   "source": [
    "Model 2"
   ]
  },
  {
   "cell_type": "code",
   "execution_count": 28,
   "metadata": {},
   "outputs": [
    {
     "name": "stdout",
     "output_type": "stream",
     "text": [
      "\n",
      " Fitting models using approximations to speed things up...\n",
      "\n",
      " ARIMA(2,0,2)           with non-zero mean : 21672.61\n",
      " ARIMA(0,0,0)           with non-zero mean : 22359.74\n",
      " ARIMA(1,0,0)           with non-zero mean : 22359.33\n",
      " ARIMA(0,0,1)           with non-zero mean : 22356.76\n",
      " ARIMA(0,0,0)           with zero mean     : 22357.73\n",
      " ARIMA(1,0,2)           with non-zero mean : Inf\n",
      " ARIMA(2,0,1)           with non-zero mean : 21692.72\n",
      " ARIMA(3,0,2)           with non-zero mean : Inf\n",
      " ARIMA(2,0,3)           with non-zero mean : Inf\n",
      " ARIMA(1,0,1)           with non-zero mean : Inf\n",
      " ARIMA(1,0,3)           with non-zero mean : 21730.69\n",
      " ARIMA(3,0,1)           with non-zero mean : Inf\n",
      " ARIMA(3,0,3)           with non-zero mean : 21460.85\n",
      " ARIMA(4,0,3)           with non-zero mean : Inf\n",
      " ARIMA(3,0,4)           with non-zero mean : Inf\n",
      " ARIMA(2,0,4)           with non-zero mean : 21655.74\n",
      " ARIMA(4,0,2)           with non-zero mean : 21597.51\n",
      " ARIMA(4,0,4)           with non-zero mean : 21520.38\n",
      " ARIMA(3,0,3)           with zero mean     : Inf\n",
      "\n",
      " Now re-fitting the best model(s) without approximations...\n",
      "\n",
      " ARIMA(3,0,3)           with non-zero mean : Inf\n",
      " ARIMA(4,0,4)           with non-zero mean : Inf\n",
      " ARIMA(4,0,2)           with non-zero mean : Inf\n",
      " ARIMA(2,0,4)           with non-zero mean : Inf\n",
      " ARIMA(2,0,2)           with non-zero mean : Inf\n",
      " ARIMA(2,0,1)           with non-zero mean : Inf\n",
      " ARIMA(1,0,3)           with non-zero mean : Inf\n",
      " ARIMA(0,0,1)           with non-zero mean : 22356.74\n",
      "\n",
      " Best model: ARIMA(0,0,1)           with non-zero mean \n",
      "\n"
     ]
    },
    {
     "data": {
      "text/html": [
       "22356.7260802191"
      ],
      "text/latex": [
       "22356.7260802191"
      ],
      "text/markdown": [
       "22356.7260802191"
      ],
      "text/plain": [
       "[1] 22356.73"
      ]
     },
     "metadata": {},
     "output_type": "display_data"
    },
    {
     "data": {
      "text/html": [
       "22372.58876214"
      ],
      "text/latex": [
       "22372.58876214"
      ],
      "text/markdown": [
       "22372.58876214"
      ],
      "text/plain": [
       "[1] 22372.59"
      ]
     },
     "metadata": {},
     "output_type": "display_data"
    }
   ],
   "source": [
    "model2 <- auto.arima(DTS3$random,seasonal=F,trace=T)\n",
    "AIC(model2)\n",
    "BIC(model2)"
   ]
  },
  {
   "cell_type": "code",
   "execution_count": 29,
   "metadata": {},
   "outputs": [
    {
     "data": {
      "text/plain": [
       "         Point Forecast     Lo 80    Hi 80    Lo 95    Hi 95\n",
       "210.2857     -0.3565996 -652.0653 651.3521 -997.059 996.3458\n",
       "210.4286     -0.3565996 -652.0653 651.3521 -997.059 996.3458\n",
       "210.5714     -0.3565996 -652.0653 651.3521 -997.059 996.3458\n",
       "210.7143     -0.3565996 -652.0653 651.3521 -997.059 996.3458\n",
       "210.8571     -0.3565996 -652.0653 651.3521 -997.059 996.3458\n",
       "211.0000     -0.3565996 -652.0653 651.3521 -997.059 996.3458\n",
       "211.1429     -0.3565996 -652.0653 651.3521 -997.059 996.3458\n",
       "211.2857     -0.3565996 -652.0653 651.3521 -997.059 996.3458\n",
       "211.4286     -0.3565996 -652.0653 651.3521 -997.059 996.3458\n",
       "211.5714     -0.3565996 -652.0653 651.3521 -997.059 996.3458\n",
       "211.7143     -0.3565996 -652.0653 651.3521 -997.059 996.3458\n",
       "211.8571     -0.3565996 -652.0653 651.3521 -997.059 996.3458\n",
       "212.0000     -0.3565996 -652.0653 651.3521 -997.059 996.3458\n",
       "212.1429     -0.3565996 -652.0653 651.3521 -997.059 996.3458\n",
       "212.2857     -0.3565996 -652.0653 651.3521 -997.059 996.3458"
      ]
     },
     "metadata": {},
     "output_type": "display_data"
    }
   ],
   "source": [
    "forecasted2 <- forecast(model2, h = 15)\n",
    "forecasted2\n"
   ]
  },
  {
   "cell_type": "code",
   "execution_count": 30,
   "metadata": {},
   "outputs": [
    {
     "name": "stdout",
     "output_type": "stream",
     "text": [
      "    prediction2\n",
      " 1:    33762.62\n",
      " 2:    30561.03\n",
      " 3:    35687.66\n",
      " 4:    37050.66\n",
      " 5:    37293.27\n",
      " 6:    36427.82\n",
      " 7:    36326.31\n",
      " 8:    34694.32\n",
      " 9:    31375.75\n",
      "10:    35414.51\n",
      "11:    36802.86\n",
      "12:    36494.24\n",
      "13:    36114.03\n",
      "14:    35882.02\n",
      "15:    34764.34\n"
     ]
    },
    {
     "data": {
      "text/html": [
       "<ol class=list-inline>\n",
       "\t<li>'data.table'</li>\n",
       "\t<li>'data.frame'</li>\n",
       "</ol>\n"
      ],
      "text/latex": [
       "\\begin{enumerate*}\n",
       "\\item 'data.table'\n",
       "\\item 'data.frame'\n",
       "\\end{enumerate*}\n"
      ],
      "text/markdown": [
       "1. 'data.table'\n",
       "2. 'data.frame'\n",
       "\n",
       "\n"
      ],
      "text/plain": [
       "[1] \"data.table\" \"data.frame\""
      ]
     },
     "metadata": {},
     "output_type": "display_data"
    },
    {
     "data": {
      "text/html": [
       "<table>\n",
       "<thead><tr><th scope=col>Date</th><th scope=col>Consumption</th><th scope=col>Model1_Prediction</th><th scope=col>Model2_Prediction</th><th scope=col>Abs_Error</th><th scope=col>Perc_Error</th></tr></thead>\n",
       "<tbody>\n",
       "\t<tr><td>2021-01-09</td><td>34781.56  </td><td>29620.26  </td><td>33762.62  </td><td>1018.9438 </td><td>2.9295517 </td></tr>\n",
       "\t<tr><td>2021-01-10</td><td>31841.90  </td><td>25946.93  </td><td>30561.03  </td><td>1280.8725 </td><td>4.0226007 </td></tr>\n",
       "\t<tr><td>2021-01-11</td><td>36431.46  </td><td>30702.49  </td><td>35687.66  </td><td> 743.8004 </td><td>2.0416429 </td></tr>\n",
       "\t<tr><td>2021-01-12</td><td>36897.99  </td><td>31793.22  </td><td>37050.66  </td><td> 152.6655 </td><td>0.4137502 </td></tr>\n",
       "\t<tr><td>2021-01-13</td><td>37409.87  </td><td>31841.51  </td><td>37293.27  </td><td> 116.6023 </td><td>0.3116887 </td></tr>\n",
       "\t<tr><td>2021-01-14</td><td>38056.05  </td><td>30839.02  </td><td>36427.82  </td><td>1628.2353 </td><td>4.2785187 </td></tr>\n",
       "\t<tr><td>2021-01-15</td><td>38170.38  </td><td>30641.41  </td><td>36326.31  </td><td>1844.0688 </td><td>4.8311509 </td></tr>\n",
       "\t<tr><td>2021-01-16</td><td>35667.35  </td><td>28942.19  </td><td>34694.32  </td><td> 973.0213 </td><td>2.7280451 </td></tr>\n",
       "\t<tr><td>2021-01-17</td><td>32557.96  </td><td>25576.67  </td><td>31375.75  </td><td>1182.2112 </td><td>3.6310976 </td></tr>\n",
       "\t<tr><td>2021-01-18</td><td>38447.89  </td><td>29582.70  </td><td>35414.51  </td><td>3033.3795 </td><td>7.8895869 </td></tr>\n",
       "\t<tr><td>2021-01-19</td><td>39723.73  </td><td>30948.26  </td><td>36802.86  </td><td>2920.8773 </td><td>7.3529779 </td></tr>\n",
       "\t<tr><td>2021-01-20</td><td>39960.92  </td><td>30623.82  </td><td>36494.24  </td><td>3466.6798 </td><td>8.6751746 </td></tr>\n",
       "\t<tr><td>2021-01-21</td><td>39791.07  </td><td>30232.64  </td><td>36114.03  </td><td>3677.0419 </td><td>9.2408729 </td></tr>\n",
       "\t<tr><td>2021-01-22</td><td>38902.97  </td><td>29993.07  </td><td>35882.02  </td><td>3020.9537 </td><td>7.7653542 </td></tr>\n",
       "\t<tr><td>2021-01-23</td><td>35635.70  </td><td>28870.21  </td><td>34764.34  </td><td> 871.3604 </td><td>2.4451895 </td></tr>\n",
       "</tbody>\n",
       "</table>\n"
      ],
      "text/latex": [
       "\\begin{tabular}{r|llllll}\n",
       " Date & Consumption & Model1\\_Prediction & Model2\\_Prediction & Abs\\_Error & Perc\\_Error\\\\\n",
       "\\hline\n",
       "\t 2021-01-09 & 34781.56   & 29620.26   & 33762.62   & 1018.9438  & 2.9295517 \\\\\n",
       "\t 2021-01-10 & 31841.90   & 25946.93   & 30561.03   & 1280.8725  & 4.0226007 \\\\\n",
       "\t 2021-01-11 & 36431.46   & 30702.49   & 35687.66   &  743.8004  & 2.0416429 \\\\\n",
       "\t 2021-01-12 & 36897.99   & 31793.22   & 37050.66   &  152.6655  & 0.4137502 \\\\\n",
       "\t 2021-01-13 & 37409.87   & 31841.51   & 37293.27   &  116.6023  & 0.3116887 \\\\\n",
       "\t 2021-01-14 & 38056.05   & 30839.02   & 36427.82   & 1628.2353  & 4.2785187 \\\\\n",
       "\t 2021-01-15 & 38170.38   & 30641.41   & 36326.31   & 1844.0688  & 4.8311509 \\\\\n",
       "\t 2021-01-16 & 35667.35   & 28942.19   & 34694.32   &  973.0213  & 2.7280451 \\\\\n",
       "\t 2021-01-17 & 32557.96   & 25576.67   & 31375.75   & 1182.2112  & 3.6310976 \\\\\n",
       "\t 2021-01-18 & 38447.89   & 29582.70   & 35414.51   & 3033.3795  & 7.8895869 \\\\\n",
       "\t 2021-01-19 & 39723.73   & 30948.26   & 36802.86   & 2920.8773  & 7.3529779 \\\\\n",
       "\t 2021-01-20 & 39960.92   & 30623.82   & 36494.24   & 3466.6798  & 8.6751746 \\\\\n",
       "\t 2021-01-21 & 39791.07   & 30232.64   & 36114.03   & 3677.0419  & 9.2408729 \\\\\n",
       "\t 2021-01-22 & 38902.97   & 29993.07   & 35882.02   & 3020.9537  & 7.7653542 \\\\\n",
       "\t 2021-01-23 & 35635.70   & 28870.21   & 34764.34   &  871.3604  & 2.4451895 \\\\\n",
       "\\end{tabular}\n"
      ],
      "text/markdown": [
       "\n",
       "| Date | Consumption | Model1_Prediction | Model2_Prediction | Abs_Error | Perc_Error |\n",
       "|---|---|---|---|---|---|\n",
       "| 2021-01-09 | 34781.56   | 29620.26   | 33762.62   | 1018.9438  | 2.9295517  |\n",
       "| 2021-01-10 | 31841.90   | 25946.93   | 30561.03   | 1280.8725  | 4.0226007  |\n",
       "| 2021-01-11 | 36431.46   | 30702.49   | 35687.66   |  743.8004  | 2.0416429  |\n",
       "| 2021-01-12 | 36897.99   | 31793.22   | 37050.66   |  152.6655  | 0.4137502  |\n",
       "| 2021-01-13 | 37409.87   | 31841.51   | 37293.27   |  116.6023  | 0.3116887  |\n",
       "| 2021-01-14 | 38056.05   | 30839.02   | 36427.82   | 1628.2353  | 4.2785187  |\n",
       "| 2021-01-15 | 38170.38   | 30641.41   | 36326.31   | 1844.0688  | 4.8311509  |\n",
       "| 2021-01-16 | 35667.35   | 28942.19   | 34694.32   |  973.0213  | 2.7280451  |\n",
       "| 2021-01-17 | 32557.96   | 25576.67   | 31375.75   | 1182.2112  | 3.6310976  |\n",
       "| 2021-01-18 | 38447.89   | 29582.70   | 35414.51   | 3033.3795  | 7.8895869  |\n",
       "| 2021-01-19 | 39723.73   | 30948.26   | 36802.86   | 2920.8773  | 7.3529779  |\n",
       "| 2021-01-20 | 39960.92   | 30623.82   | 36494.24   | 3466.6798  | 8.6751746  |\n",
       "| 2021-01-21 | 39791.07   | 30232.64   | 36114.03   | 3677.0419  | 9.2408729  |\n",
       "| 2021-01-22 | 38902.97   | 29993.07   | 35882.02   | 3020.9537  | 7.7653542  |\n",
       "| 2021-01-23 | 35635.70   | 28870.21   | 34764.34   |  871.3604  | 2.4451895  |\n",
       "\n"
      ],
      "text/plain": [
       "   Date       Consumption Model1_Prediction Model2_Prediction Abs_Error\n",
       "1  2021-01-09 34781.56    29620.26          33762.62          1018.9438\n",
       "2  2021-01-10 31841.90    25946.93          30561.03          1280.8725\n",
       "3  2021-01-11 36431.46    30702.49          35687.66           743.8004\n",
       "4  2021-01-12 36897.99    31793.22          37050.66           152.6655\n",
       "5  2021-01-13 37409.87    31841.51          37293.27           116.6023\n",
       "6  2021-01-14 38056.05    30839.02          36427.82          1628.2353\n",
       "7  2021-01-15 38170.38    30641.41          36326.31          1844.0688\n",
       "8  2021-01-16 35667.35    28942.19          34694.32           973.0213\n",
       "9  2021-01-17 32557.96    25576.67          31375.75          1182.2112\n",
       "10 2021-01-18 38447.89    29582.70          35414.51          3033.3795\n",
       "11 2021-01-19 39723.73    30948.26          36802.86          2920.8773\n",
       "12 2021-01-20 39960.92    30623.82          36494.24          3466.6798\n",
       "13 2021-01-21 39791.07    30232.64          36114.03          3677.0419\n",
       "14 2021-01-22 38902.97    29993.07          35882.02          3020.9537\n",
       "15 2021-01-23 35635.70    28870.21          34764.34           871.3604\n",
       "   Perc_Error\n",
       "1  2.9295517 \n",
       "2  4.0226007 \n",
       "3  2.0416429 \n",
       "4  0.4137502 \n",
       "5  0.3116887 \n",
       "6  4.2785187 \n",
       "7  4.8311509 \n",
       "8  2.7280451 \n",
       "9  3.6310976 \n",
       "10 7.8895869 \n",
       "11 7.3529779 \n",
       "12 8.6751746 \n",
       "13 9.2408729 \n",
       "14 7.7653542 \n",
       "15 2.4451895 "
      ]
     },
     "metadata": {},
     "output_type": "display_data"
    }
   ],
   "source": [
    "prediction2 <- rep(0, 15)\n",
    "\n",
    "prediction2[1] <- forecasted2$mean[1] + DailyM_DT$Adjusted_Consumption_WithLag1[nrow(DailyM_DT)]\n",
    "for (i in 2:15){\n",
    "  prediction2[i] <- prediction2[i-1]+forecasted2$mean[i]\n",
    "}\n",
    "\n",
    "prediction2 <- prediction2 - 2*DailyM_DT$year_adjustment[1469]\n",
    "prediction2 <- prediction2 + DailyM_DT$day_adjustment[7:21]\n",
    "prediction2 <- prediction2 + DailyM_DT$month_adjustment[1]\n",
    "prediction2 <- prediction2 + DailyM_DT$lag1[7:21]\n",
    "last_trend_value <-tail(DTS3$trend[!is.na(DTS3$trend)],1)\n",
    "lt <- rep(last_trend_value*25, 15)\n",
    "prediction2 <- prediction2 + lt\n",
    "prediction2 <- as.data.table(prediction2)\n",
    "date <- as.Date('2021-01-09')\n",
    "for(k in 2:14){\n",
    "  date[k] <- date[k-1]+1\n",
    "}\n",
    "\n",
    "print(prediction2)\n",
    "class(prediction2)\n",
    "\n",
    "Forecast_DT[,Model2_Prediction:=prediction2,]\n",
    "Forecast_DT"
   ]
  },
  {
   "cell_type": "code",
   "execution_count": 38,
   "metadata": {},
   "outputs": [
    {
     "data": {
      "image/png": "[encoded data removed]",
      "text/plain": [
       "plot without title"
      ]
     },
     "metadata": {},
     "output_type": "display_data"
    }
   ],
   "source": [
    " p1 <- ggplot( data= Forecast_DT ) +\n",
    "  theme_classic()+\n",
    "  theme(plot.title = element_text(size = 12, face = \"bold\",hjust = 0.5))+\n",
    "  labs( x=\"Date\",y=\"Consumption (MWh)\",title=(\"Actual and Predicted Mean Daily Consumption\"))+\n",
    "  geom_line( aes(x=Date, y=Consumption,colour=\"Actual\"))+\n",
    "    geom_line(aes(x=Date, y=Model2_Prediction ,colour=\"Predicted\"))+\n",
    "scale_color_manual(values = c(\"blue\",\"red\")) \n",
    "\n",
    "p1"
   ]
  },
  {
   "cell_type": "code",
   "execution_count": 32,
   "metadata": {},
   "outputs": [
    {
     "data": {
      "text/html": [
       "<table>\n",
       "<thead><tr><th scope=col>Date</th><th scope=col>Consumption</th><th scope=col>Model1_Prediction</th><th scope=col>Model2_Prediction</th><th scope=col>Abs_Error</th><th scope=col>Perc_Error</th></tr></thead>\n",
       "<tbody>\n",
       "\t<tr><td>2021-01-09</td><td>34781.56  </td><td>29620.26  </td><td>33762.62  </td><td>1018.9438 </td><td>2.9295517 </td></tr>\n",
       "\t<tr><td>2021-01-10</td><td>31841.90  </td><td>25946.93  </td><td>30561.03  </td><td>1280.8725 </td><td>4.0226007 </td></tr>\n",
       "\t<tr><td>2021-01-11</td><td>36431.46  </td><td>30702.49  </td><td>35687.66  </td><td> 743.8004 </td><td>2.0416429 </td></tr>\n",
       "\t<tr><td>2021-01-12</td><td>36897.99  </td><td>31793.22  </td><td>37050.66  </td><td> 152.6655 </td><td>0.4137502 </td></tr>\n",
       "\t<tr><td>2021-01-13</td><td>37409.87  </td><td>31841.51  </td><td>37293.27  </td><td> 116.6023 </td><td>0.3116887 </td></tr>\n",
       "\t<tr><td>2021-01-14</td><td>38056.05  </td><td>30839.02  </td><td>36427.82  </td><td>1628.2353 </td><td>4.2785187 </td></tr>\n",
       "\t<tr><td>2021-01-15</td><td>38170.38  </td><td>30641.41  </td><td>36326.31  </td><td>1844.0688 </td><td>4.8311509 </td></tr>\n",
       "\t<tr><td>2021-01-16</td><td>35667.35  </td><td>28942.19  </td><td>34694.32  </td><td> 973.0213 </td><td>2.7280451 </td></tr>\n",
       "\t<tr><td>2021-01-17</td><td>32557.96  </td><td>25576.67  </td><td>31375.75  </td><td>1182.2112 </td><td>3.6310976 </td></tr>\n",
       "\t<tr><td>2021-01-18</td><td>38447.89  </td><td>29582.70  </td><td>35414.51  </td><td>3033.3795 </td><td>7.8895869 </td></tr>\n",
       "\t<tr><td>2021-01-19</td><td>39723.73  </td><td>30948.26  </td><td>36802.86  </td><td>2920.8773 </td><td>7.3529779 </td></tr>\n",
       "\t<tr><td>2021-01-20</td><td>39960.92  </td><td>30623.82  </td><td>36494.24  </td><td>3466.6798 </td><td>8.6751746 </td></tr>\n",
       "\t<tr><td>2021-01-21</td><td>39791.07  </td><td>30232.64  </td><td>36114.03  </td><td>3677.0419 </td><td>9.2408729 </td></tr>\n",
       "\t<tr><td>2021-01-22</td><td>38902.97  </td><td>29993.07  </td><td>35882.02  </td><td>3020.9537 </td><td>7.7653542 </td></tr>\n",
       "\t<tr><td>2021-01-23</td><td>35635.70  </td><td>28870.21  </td><td>34764.34  </td><td> 871.3604 </td><td>2.4451895 </td></tr>\n",
       "</tbody>\n",
       "</table>\n"
      ],
      "text/latex": [
       "\\begin{tabular}{r|llllll}\n",
       " Date & Consumption & Model1\\_Prediction & Model2\\_Prediction & Abs\\_Error & Perc\\_Error\\\\\n",
       "\\hline\n",
       "\t 2021-01-09 & 34781.56   & 29620.26   & 33762.62   & 1018.9438  & 2.9295517 \\\\\n",
       "\t 2021-01-10 & 31841.90   & 25946.93   & 30561.03   & 1280.8725  & 4.0226007 \\\\\n",
       "\t 2021-01-11 & 36431.46   & 30702.49   & 35687.66   &  743.8004  & 2.0416429 \\\\\n",
       "\t 2021-01-12 & 36897.99   & 31793.22   & 37050.66   &  152.6655  & 0.4137502 \\\\\n",
       "\t 2021-01-13 & 37409.87   & 31841.51   & 37293.27   &  116.6023  & 0.3116887 \\\\\n",
       "\t 2021-01-14 & 38056.05   & 30839.02   & 36427.82   & 1628.2353  & 4.2785187 \\\\\n",
       "\t 2021-01-15 & 38170.38   & 30641.41   & 36326.31   & 1844.0688  & 4.8311509 \\\\\n",
       "\t 2021-01-16 & 35667.35   & 28942.19   & 34694.32   &  973.0213  & 2.7280451 \\\\\n",
       "\t 2021-01-17 & 32557.96   & 25576.67   & 31375.75   & 1182.2112  & 3.6310976 \\\\\n",
       "\t 2021-01-18 & 38447.89   & 29582.70   & 35414.51   & 3033.3795  & 7.8895869 \\\\\n",
       "\t 2021-01-19 & 39723.73   & 30948.26   & 36802.86   & 2920.8773  & 7.3529779 \\\\\n",
       "\t 2021-01-20 & 39960.92   & 30623.82   & 36494.24   & 3466.6798  & 8.6751746 \\\\\n",
       "\t 2021-01-21 & 39791.07   & 30232.64   & 36114.03   & 3677.0419  & 9.2408729 \\\\\n",
       "\t 2021-01-22 & 38902.97   & 29993.07   & 35882.02   & 3020.9537  & 7.7653542 \\\\\n",
       "\t 2021-01-23 & 35635.70   & 28870.21   & 34764.34   &  871.3604  & 2.4451895 \\\\\n",
       "\\end{tabular}\n"
      ],
      "text/markdown": [
       "\n",
       "| Date | Consumption | Model1_Prediction | Model2_Prediction | Abs_Error | Perc_Error |\n",
       "|---|---|---|---|---|---|\n",
       "| 2021-01-09 | 34781.56   | 29620.26   | 33762.62   | 1018.9438  | 2.9295517  |\n",
       "| 2021-01-10 | 31841.90   | 25946.93   | 30561.03   | 1280.8725  | 4.0226007  |\n",
       "| 2021-01-11 | 36431.46   | 30702.49   | 35687.66   |  743.8004  | 2.0416429  |\n",
       "| 2021-01-12 | 36897.99   | 31793.22   | 37050.66   |  152.6655  | 0.4137502  |\n",
       "| 2021-01-13 | 37409.87   | 31841.51   | 37293.27   |  116.6023  | 0.3116887  |\n",
       "| 2021-01-14 | 38056.05   | 30839.02   | 36427.82   | 1628.2353  | 4.2785187  |\n",
       "| 2021-01-15 | 38170.38   | 30641.41   | 36326.31   | 1844.0688  | 4.8311509  |\n",
       "| 2021-01-16 | 35667.35   | 28942.19   | 34694.32   |  973.0213  | 2.7280451  |\n",
       "| 2021-01-17 | 32557.96   | 25576.67   | 31375.75   | 1182.2112  | 3.6310976  |\n",
       "| 2021-01-18 | 38447.89   | 29582.70   | 35414.51   | 3033.3795  | 7.8895869  |\n",
       "| 2021-01-19 | 39723.73   | 30948.26   | 36802.86   | 2920.8773  | 7.3529779  |\n",
       "| 2021-01-20 | 39960.92   | 30623.82   | 36494.24   | 3466.6798  | 8.6751746  |\n",
       "| 2021-01-21 | 39791.07   | 30232.64   | 36114.03   | 3677.0419  | 9.2408729  |\n",
       "| 2021-01-22 | 38902.97   | 29993.07   | 35882.02   | 3020.9537  | 7.7653542  |\n",
       "| 2021-01-23 | 35635.70   | 28870.21   | 34764.34   |  871.3604  | 2.4451895  |\n",
       "\n"
      ],
      "text/plain": [
       "   Date       Consumption Model1_Prediction Model2_Prediction Abs_Error\n",
       "1  2021-01-09 34781.56    29620.26          33762.62          1018.9438\n",
       "2  2021-01-10 31841.90    25946.93          30561.03          1280.8725\n",
       "3  2021-01-11 36431.46    30702.49          35687.66           743.8004\n",
       "4  2021-01-12 36897.99    31793.22          37050.66           152.6655\n",
       "5  2021-01-13 37409.87    31841.51          37293.27           116.6023\n",
       "6  2021-01-14 38056.05    30839.02          36427.82          1628.2353\n",
       "7  2021-01-15 38170.38    30641.41          36326.31          1844.0688\n",
       "8  2021-01-16 35667.35    28942.19          34694.32           973.0213\n",
       "9  2021-01-17 32557.96    25576.67          31375.75          1182.2112\n",
       "10 2021-01-18 38447.89    29582.70          35414.51          3033.3795\n",
       "11 2021-01-19 39723.73    30948.26          36802.86          2920.8773\n",
       "12 2021-01-20 39960.92    30623.82          36494.24          3466.6798\n",
       "13 2021-01-21 39791.07    30232.64          36114.03          3677.0419\n",
       "14 2021-01-22 38902.97    29993.07          35882.02          3020.9537\n",
       "15 2021-01-23 35635.70    28870.21          34764.34           871.3604\n",
       "   Perc_Error\n",
       "1  2.9295517 \n",
       "2  4.0226007 \n",
       "3  2.0416429 \n",
       "4  0.4137502 \n",
       "5  0.3116887 \n",
       "6  4.2785187 \n",
       "7  4.8311509 \n",
       "8  2.7280451 \n",
       "9  3.6310976 \n",
       "10 7.8895869 \n",
       "11 7.3529779 \n",
       "12 8.6751746 \n",
       "13 9.2408729 \n",
       "14 7.7653542 \n",
       "15 2.4451895 "
      ]
     },
     "metadata": {},
     "output_type": "display_data"
    }
   ],
   "source": [
    "Forecast_DT[,Abs_Error:= abs(Consumption - Model2_Prediction),]\n",
    "Forecast_DT[,Perc_Error:= Abs_Error/Consumption*100,]\n",
    "Forecast_DT"
   ]
  },
  {
   "cell_type": "code",
   "execution_count": 33,
   "metadata": {},
   "outputs": [],
   "source": [
    "error_test <- function(actual, forecasted){\n",
    "  n=length(actual)\n",
    "  error = actual-forecasted\n",
    "  mean=mean(actual)\n",
    "  sd=sd(actual)\n",
    "  bias = sum(error)/sum(actual)\n",
    "  mape = sum(abs(error/actual))/n\n",
    "  mad = sum(abs(error))/n\n",
    "  wmape = mad/mean\n",
    "  df = data.frame(n,mean,sd,bias,mape,mad,wmape)\n",
    "  return(df)\n",
    "}"
   ]
  },
  {
   "cell_type": "code",
   "execution_count": 34,
   "metadata": {},
   "outputs": [
    {
     "data": {
      "text/html": [
       "<table>\n",
       "<thead><tr><th scope=col>n</th><th scope=col>mean</th><th scope=col>sd</th><th scope=col>bias</th><th scope=col>mape</th><th scope=col>mad</th><th scope=col>wmape</th></tr></thead>\n",
       "<tbody>\n",
       "\t<tr><td>15        </td><td>36951.79  </td><td>2500.597  </td><td>0.0462321 </td><td>0.0457048 </td><td>1728.714  </td><td>0.04678297</td></tr>\n",
       "</tbody>\n",
       "</table>\n"
      ],
      "text/latex": [
       "\\begin{tabular}{r|lllllll}\n",
       " n & mean & sd & bias & mape & mad & wmape\\\\\n",
       "\\hline\n",
       "\t 15         & 36951.79   & 2500.597   & 0.0462321  & 0.0457048  & 1728.714   & 0.04678297\\\\\n",
       "\\end{tabular}\n"
      ],
      "text/markdown": [
       "\n",
       "| n | mean | sd | bias | mape | mad | wmape |\n",
       "|---|---|---|---|---|---|---|\n",
       "| 15         | 36951.79   | 2500.597   | 0.0462321  | 0.0457048  | 1728.714   | 0.04678297 |\n",
       "\n"
      ],
      "text/plain": [
       "  n  mean     sd       bias      mape      mad      wmape     \n",
       "1 15 36951.79 2500.597 0.0462321 0.0457048 1728.714 0.04678297"
      ]
     },
     "metadata": {},
     "output_type": "display_data"
    }
   ],
   "source": [
    "error_test(Forecast_DT$Consumption,Forecast_DT$Model2_Prediction)"
   ]
  },
  {
   "cell_type": "code",
   "execution_count": null,
   "metadata": {},
   "outputs": [],
   "source": []
  }
 ],
 "metadata": {
  "kernelspec": {
   "display_name": "R",
   "language": "R",
   "name": "ir"
  },
  "language_info": {
   "codemirror_mode": "r",
   "file_extension": ".r",
   "mimetype": "text/x-r-source",
   "name": "R",
   "pygments_lexer": "r",
   "version": "3.6.1"
  },
  "widgets": {
   "application/vnd.jupyter.widget-state+json": {
    "state": {},
    "version_major": 2,
    "version_minor": 0
   }
  }
 },
 "nbformat": 4,
 "nbformat_minor": 4
}
